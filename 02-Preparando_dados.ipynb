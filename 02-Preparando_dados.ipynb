{
 "cells": [
  {
   "cell_type": "code",
   "execution_count": null,
   "metadata": {},
   "outputs": [],
   "source": [
    "# Versão da Linguagem Python\n",
    "from platform import python_version\n",
    "print('Versão de Python Neste Jupyter Notebook:', python_version())"
   ]
  },
  {
   "attachments": {},
   "cell_type": "markdown",
   "metadata": {},
   "source": [
    "### Preparando os dados"
   ]
  },
  {
   "attachments": {},
   "cell_type": "markdown",
   "metadata": {},
   "source": [
    "A segunda etapa da análise de dados é a limpeza dos dados. Preparar dados para ferramentas analíticas pode ser uma tarefa difícil. O Python e suas bibliotecas tentam torná-lo o mais fácil possível."
   ]
  },
  {
   "attachments": {},
   "cell_type": "markdown",
   "metadata": {},
   "source": [
    "Com apenas algumas linhas de código, você poderá preparar seus dados para análise. Você poderá:\n",
    "\n",
    "- Limpar os dados.\n",
    "- Criar novas variáveis.\n",
    "- Organizar os dados."
   ]
  },
  {
   "attachments": {},
   "cell_type": "markdown",
   "metadata": {},
   "source": [
    "#### Limpeza de dados"
   ]
  },
  {
   "attachments": {},
   "cell_type": "markdown",
   "metadata": {},
   "source": [
    "Para serem úteis para a maioria das tarefas analíticas, os dados devem estar limpos. Isso significa que deve ser consistente, relevante e padronizado."
   ]
  },
  {
   "attachments": {},
   "cell_type": "markdown",
   "metadata": {},
   "source": [
    "- remover valores discrepantes;\n",
    "- remover valores inadequados;\n",
    "- remover duplicatas;\n",
    "- remover pontuação;\n",
    "- remover espaços em branco;\n",
    "- padronizar datas;\n",
    "- padronizar o texto."
   ]
  },
  {
   "attachments": {},
   "cell_type": "markdown",
   "metadata": {},
   "source": [
    "#### Calculando e removendo outliers"
   ]
  },
  {
   "attachments": {},
   "cell_type": "markdown",
   "metadata": {},
   "source": [
    "Suponha que você esteja coletando dados sobre as pessoas com quem você estudou no ensino médio. E se você foi para a escola com Bill Gates. Agora, mesmo que a pessoa com o segundo maior patrimônio líquido tenha apenas $ 1,5 milhão, a média de toda a sua classe é aumentada pelo bilionário no topo. Encontrar os outliers permite remover os valores que são tão altos ou tão baixos que distorcem a visão geral dos dados."
   ]
  },
  {
   "attachments": {},
   "cell_type": "markdown",
   "metadata": {},
   "source": [
    "Cobrimos duas maneiras principais de detectar outliers:\n",
    "\n",
    "- 1. Desvios Padrão: Se os dados forem normalmente distribuído, então 95 por cento dos dados estão dentro de 1,96 desvios padrão da média. Portanto, podemos descartar os valores acima ou abaixo desse intervalo."
   ]
  },
  {
   "attachments": {},
   "cell_type": "markdown",
   "metadata": {},
   "source": [
    "- 2. Intervalo Interquartílico (IQR): O IQR é o diferença entre o quantil de 25 por cento e o quantil de 75 por cento. Quaisquer valores inferiores a Q1 - 1,5 x IQR ou superiores a Q3 + 1,5 x IQR são tratados como outliers e removidos."
   ]
  },
  {
   "attachments": {},
   "cell_type": "markdown",
   "metadata": {},
   "source": [
    "Vamos ver como eles se parecem"
   ]
  },
  {
   "cell_type": "code",
   "execution_count": 6,
   "metadata": {},
   "outputs": [
    {
     "data": {
      "text/html": [
       "<div>\n",
       "<style scoped>\n",
       "    .dataframe tbody tr th:only-of-type {\n",
       "        vertical-align: middle;\n",
       "    }\n",
       "\n",
       "    .dataframe tbody tr th {\n",
       "        vertical-align: top;\n",
       "    }\n",
       "\n",
       "    .dataframe thead th {\n",
       "        text-align: right;\n",
       "    }\n",
       "</style>\n",
       "<table border=\"1\" class=\"dataframe\">\n",
       "  <thead>\n",
       "    <tr style=\"text-align: right;\">\n",
       "      <th></th>\n",
       "      <th>fname</th>\n",
       "      <th>lname</th>\n",
       "      <th>gender</th>\n",
       "      <th>age</th>\n",
       "      <th>exercise</th>\n",
       "      <th>hours</th>\n",
       "      <th>grade</th>\n",
       "      <th>address</th>\n",
       "    </tr>\n",
       "  </thead>\n",
       "  <tbody>\n",
       "    <tr>\n",
       "      <th>0</th>\n",
       "      <td>Marcia</td>\n",
       "      <td>Pugh</td>\n",
       "      <td>female</td>\n",
       "      <td>17</td>\n",
       "      <td>3</td>\n",
       "      <td>10</td>\n",
       "      <td>82.4</td>\n",
       "      <td>9253 Richardson Road, Matawan, NJ 07747</td>\n",
       "    </tr>\n",
       "    <tr>\n",
       "      <th>1</th>\n",
       "      <td>Kadeem</td>\n",
       "      <td>Morrison</td>\n",
       "      <td>male</td>\n",
       "      <td>18</td>\n",
       "      <td>4</td>\n",
       "      <td>4</td>\n",
       "      <td>78.2</td>\n",
       "      <td>33 Spring Dr., Taunton, MA 02780</td>\n",
       "    </tr>\n",
       "    <tr>\n",
       "      <th>2</th>\n",
       "      <td>Nash</td>\n",
       "      <td>Powell</td>\n",
       "      <td>male</td>\n",
       "      <td>18</td>\n",
       "      <td>5</td>\n",
       "      <td>9</td>\n",
       "      <td>79.3</td>\n",
       "      <td>41 Hill Avenue, Mentor, OH 44060</td>\n",
       "    </tr>\n",
       "    <tr>\n",
       "      <th>3</th>\n",
       "      <td>Noelani</td>\n",
       "      <td>Wagner</td>\n",
       "      <td>female</td>\n",
       "      <td>14</td>\n",
       "      <td>2</td>\n",
       "      <td>7</td>\n",
       "      <td>83.2</td>\n",
       "      <td>8839 Marshall St., Miami, FL 33125</td>\n",
       "    </tr>\n",
       "    <tr>\n",
       "      <th>4</th>\n",
       "      <td>Noelani</td>\n",
       "      <td>Cherry</td>\n",
       "      <td>female</td>\n",
       "      <td>18</td>\n",
       "      <td>4</td>\n",
       "      <td>15</td>\n",
       "      <td>87.4</td>\n",
       "      <td>8304 Charles Rd., Lewis Center, OH 43035</td>\n",
       "    </tr>\n",
       "    <tr>\n",
       "      <th>...</th>\n",
       "      <td>...</td>\n",
       "      <td>...</td>\n",
       "      <td>...</td>\n",
       "      <td>...</td>\n",
       "      <td>...</td>\n",
       "      <td>...</td>\n",
       "      <td>...</td>\n",
       "      <td>...</td>\n",
       "    </tr>\n",
       "    <tr>\n",
       "      <th>1995</th>\n",
       "      <td>Cody</td>\n",
       "      <td>Shepherd</td>\n",
       "      <td>male</td>\n",
       "      <td>19</td>\n",
       "      <td>1</td>\n",
       "      <td>8</td>\n",
       "      <td>80.1</td>\n",
       "      <td>982 West Street, Alexandria, VA 22304</td>\n",
       "    </tr>\n",
       "    <tr>\n",
       "      <th>1996</th>\n",
       "      <td>Geraldine</td>\n",
       "      <td>Peterson</td>\n",
       "      <td>female</td>\n",
       "      <td>16</td>\n",
       "      <td>4</td>\n",
       "      <td>18</td>\n",
       "      <td>100.0</td>\n",
       "      <td>78 Morris Street, East Northport, NY 11731</td>\n",
       "    </tr>\n",
       "    <tr>\n",
       "      <th>1997</th>\n",
       "      <td>Mercedes</td>\n",
       "      <td>Leon</td>\n",
       "      <td>female</td>\n",
       "      <td>18</td>\n",
       "      <td>3</td>\n",
       "      <td>14</td>\n",
       "      <td>84.9</td>\n",
       "      <td>30 Glenridge Rd., Bountiful, UT 84010</td>\n",
       "    </tr>\n",
       "    <tr>\n",
       "      <th>1998</th>\n",
       "      <td>Lucius</td>\n",
       "      <td>Rowland</td>\n",
       "      <td>male</td>\n",
       "      <td>16</td>\n",
       "      <td>1</td>\n",
       "      <td>7</td>\n",
       "      <td>69.1</td>\n",
       "      <td>342 West Meadowbrook Lane, Helena, MT 59601</td>\n",
       "    </tr>\n",
       "    <tr>\n",
       "      <th>1999</th>\n",
       "      <td>Linus</td>\n",
       "      <td>Morris</td>\n",
       "      <td>male</td>\n",
       "      <td>19</td>\n",
       "      <td>4</td>\n",
       "      <td>10</td>\n",
       "      <td>79.6</td>\n",
       "      <td>81 Homestead Drive, Voorhees, NJ 08043</td>\n",
       "    </tr>\n",
       "  </tbody>\n",
       "</table>\n",
       "<p>1946 rows × 8 columns</p>\n",
       "</div>"
      ],
      "text/plain": [
       "          fname     lname  gender  age  exercise  hours  grade  \\\n",
       "0        Marcia      Pugh  female   17         3     10   82.4   \n",
       "1        Kadeem  Morrison    male   18         4      4   78.2   \n",
       "2          Nash    Powell    male   18         5      9   79.3   \n",
       "3       Noelani    Wagner  female   14         2      7   83.2   \n",
       "4       Noelani    Cherry  female   18         4     15   87.4   \n",
       "...         ...       ...     ...  ...       ...    ...    ...   \n",
       "1995       Cody  Shepherd    male   19         1      8   80.1   \n",
       "1996  Geraldine  Peterson  female   16         4     18  100.0   \n",
       "1997   Mercedes      Leon  female   18         3     14   84.9   \n",
       "1998     Lucius   Rowland    male   16         1      7   69.1   \n",
       "1999      Linus    Morris    male   19         4     10   79.6   \n",
       "\n",
       "                                          address  \n",
       "0         9253 Richardson Road, Matawan, NJ 07747  \n",
       "1                33 Spring Dr., Taunton, MA 02780  \n",
       "2                41 Hill Avenue, Mentor, OH 44060  \n",
       "3              8839 Marshall St., Miami, FL 33125  \n",
       "4        8304 Charles Rd., Lewis Center, OH 43035  \n",
       "...                                           ...  \n",
       "1995        982 West Street, Alexandria, VA 22304  \n",
       "1996   78 Morris Street, East Northport, NY 11731  \n",
       "1997        30 Glenridge Rd., Bountiful, UT 84010  \n",
       "1998  342 West Meadowbrook Lane, Helena, MT 59601  \n",
       "1999       81 Homestead Drive, Voorhees, NJ 08043  \n",
       "\n",
       "[1946 rows x 8 columns]"
      ]
     },
     "execution_count": 6,
     "metadata": {},
     "output_type": "execute_result"
    }
   ],
   "source": [
    "# Método 1: Desvio Padrão\n",
    "import pandas as pd\n",
    "\n",
    "caminho = \"datasets/gradedata.csv\" \n",
    "df = pd.read_csv(caminho) \n",
    "\n",
    "media_notas = df['grade'].mean()\n",
    "desvio_notas = df['grade'].std() \n",
    "\n",
    "valores_altos = media_notas + desvio_notas * 1.96 \n",
    "valores_baixos = media_notas - desvio_notas * 1.96 \n",
    "\n",
    "copia_df = df \n",
    "\n",
    "copia_df = copia_df.drop(copia_df[copia_df['grade'] > valores_altos].index)\n",
    "copia_df = copia_df.drop(copia_df[copia_df['grade'] < valores_baixos].index)\n",
    "\n",
    "copia_df"
   ]
  },
  {
   "attachments": {},
   "cell_type": "markdown",
   "metadata": {},
   "source": [
    "- Linha 10: Aqui calculamos o intervalo superior igual a 1,96 vezes o desvio padrão mais a média.\n",
    "- Linha 11: Aqui calculamos o intervalo inferior igual a 1,96 vezes o desvio padrão subtraído do desvio.\n",
    "- Linha 15: Aqui descartamos as linhas onde a nota é maior do que o toprange.\n",
    "- Linha 16: Aqui descartamos as linhas onde está a nota inferior ao botrange."
   ]
  },
  {
   "cell_type": "code",
   "execution_count": null,
   "metadata": {},
   "outputs": [],
   "source": [
    "# Método 2: Intervalo Interquartílico\n",
    "importar pandas como pd\n",
    "Location = \"datasets/gradedata.csv\" df =\n",
    "pd.read_csv(Location) q1 =\n",
    "df['grade'].quantile(.25) q3 =\n",
    "df['grade'].quantile(.75) iqr = q3-q1\n",
    "toprange = q3\n",
    "+ iqr botrange = q1 - iqr\n",
    "copydf = df\n",
    "\n",
    "copydf = copydf.drop(copydf[copydf['nota'] > toprange].index)\n",
    "copydf =\n",
    "copydf.drop(copydf[copydf['nota'] < botrange].index)\n",
    "copydf"
   ]
  },
  {
   "attachments": {},
   "cell_type": "markdown",
   "metadata": {},
   "source": [
    "• Linha 9: Aqui calculamos o limite superior = o terceiro quartil + 1,5\n",
    "* o IQR.\n",
    "* Linha 10: Aqui calculamos o limite inferior = o primeiro quartil - 1,5 *\n",
    "o IQR.\n",
    "• Linha 13: Aqui descartamos as linhas onde está a nota\n",
    "mais alto que o toprange.\n",
    "• Linha 14: Aqui descartamos as linhas onde está a nota\n",
    "inferior ao botrange."
   ]
  },
  {
   "attachments": {},
   "cell_type": "markdown",
   "metadata": {},
   "source": [
    "Carregue o conjunto de dados datasets/outlierdata.csv. Você pode remover os\n",
    "outliers? Experimente com ambos os métodos."
   ]
  },
  {
   "cell_type": "markdown",
   "metadata": {},
   "source": []
  },
  {
   "cell_type": "markdown",
   "metadata": {},
   "source": []
  },
  {
   "cell_type": "markdown",
   "metadata": {},
   "source": []
  },
  {
   "cell_type": "markdown",
   "metadata": {},
   "source": []
  },
  {
   "cell_type": "markdown",
   "metadata": {},
   "source": []
  },
  {
   "cell_type": "markdown",
   "metadata": {},
   "source": []
  },
  {
   "cell_type": "markdown",
   "metadata": {},
   "source": []
  },
  {
   "cell_type": "markdown",
   "metadata": {},
   "source": []
  },
  {
   "cell_type": "markdown",
   "metadata": {},
   "source": []
  },
  {
   "cell_type": "markdown",
   "metadata": {},
   "source": []
  },
  {
   "cell_type": "markdown",
   "metadata": {},
   "source": []
  },
  {
   "cell_type": "markdown",
   "metadata": {},
   "source": []
  },
  {
   "cell_type": "code",
   "execution_count": null,
   "metadata": {},
   "outputs": [],
   "source": [
    "%reload_ext watermark\n",
    "%watermark -a \"Caique Miranda\" -gu \"caiquemiranda\" -iv"
   ]
  },
  {
   "attachments": {},
   "cell_type": "markdown",
   "metadata": {},
   "source": [
    "### End."
   ]
  }
 ],
 "metadata": {
  "kernelspec": {
   "display_name": "Python 3",
   "language": "python",
   "name": "python3"
  },
  "language_info": {
   "codemirror_mode": {
    "name": "ipython",
    "version": 3
   },
   "file_extension": ".py",
   "mimetype": "text/x-python",
   "name": "python",
   "nbconvert_exporter": "python",
   "pygments_lexer": "ipython3",
   "version": "3.10.5"
  },
  "orig_nbformat": 4
 },
 "nbformat": 4,
 "nbformat_minor": 2
}
