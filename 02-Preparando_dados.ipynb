{
 "cells": [
  {
   "cell_type": "code",
   "execution_count": 1,
   "metadata": {},
   "outputs": [
    {
     "name": "stdout",
     "output_type": "stream",
     "text": [
      "Versão de Python Neste Jupyter Notebook: 3.10.5\n"
     ]
    }
   ],
   "source": [
    "# Versão da Linguagem Python\n",
    "from platform import python_version\n",
    "print('Versão de Python Neste Jupyter Notebook:', python_version())"
   ]
  },
  {
   "attachments": {},
   "cell_type": "markdown",
   "metadata": {},
   "source": [
    "### Preparando os dados"
   ]
  },
  {
   "attachments": {},
   "cell_type": "markdown",
   "metadata": {},
   "source": [
    "A segunda etapa da análise de dados é a limpeza dos dados. Preparar dados para ferramentas analíticas pode ser uma tarefa difícil. O Python e suas bibliotecas tentam torná-lo o mais fácil possível."
   ]
  },
  {
   "attachments": {},
   "cell_type": "markdown",
   "metadata": {},
   "source": [
    "Com apenas algumas linhas de código, você poderá preparar seus dados para análise. Você poderá:\n",
    "\n",
    "- Limpar os dados.\n",
    "- Criar novas variáveis.\n",
    "- Organizar os dados."
   ]
  },
  {
   "attachments": {},
   "cell_type": "markdown",
   "metadata": {},
   "source": [
    "#### Limpeza de dados"
   ]
  },
  {
   "attachments": {},
   "cell_type": "markdown",
   "metadata": {},
   "source": [
    "Para serem úteis para a maioria das tarefas analíticas, os dados devem estar limpos. Isso significa que deve ser consistente, relevante e padronizado."
   ]
  },
  {
   "attachments": {},
   "cell_type": "markdown",
   "metadata": {},
   "source": [
    "- remover valores discrepantes;\n",
    "- remover valores inadequados;\n",
    "- remover duplicatas;\n",
    "- remover pontuação;\n",
    "- remover espaços em branco;\n",
    "- padronizar datas;\n",
    "- padronizar o texto."
   ]
  },
  {
   "attachments": {},
   "cell_type": "markdown",
   "metadata": {},
   "source": [
    "#### Calculando e removendo outliers"
   ]
  },
  {
   "attachments": {},
   "cell_type": "markdown",
   "metadata": {},
   "source": [
    "Suponha que você esteja coletando dados sobre as pessoas com quem você estudou no ensino médio. E se você foi para a escola com Bill Gates. Agora, mesmo que a pessoa com o segundo maior patrimônio líquido tenha apenas $ 1,5 milhão, a média de toda a sua classe é aumentada pelo bilionário no topo. Encontrar os outliers permite remover os valores que são tão altos ou tão baixos que distorcem a visão geral dos dados."
   ]
  },
  {
   "attachments": {},
   "cell_type": "markdown",
   "metadata": {},
   "source": [
    "Cobrimos duas maneiras principais de detectar outliers:\n",
    "\n",
    "- 1. Desvios Padrão: Se os dados forem normalmente distribuído, então 95 por cento dos dados estão dentro de 1,96 desvios padrão da média. Portanto, podemos descartar os valores acima ou abaixo desse intervalo."
   ]
  },
  {
   "attachments": {},
   "cell_type": "markdown",
   "metadata": {},
   "source": [
    "- 2. Intervalo Interquartílico (IQR): O IQR é o diferença entre o quantil de 25 por cento e o quantil de 75 por cento. Quaisquer valores inferiores a Q1 - 1,5 x IQR ou superiores a Q3 + 1,5 x IQR são tratados como outliers e removidos."
   ]
  },
  {
   "attachments": {},
   "cell_type": "markdown",
   "metadata": {},
   "source": [
    "Vamos ver como eles se parecem"
   ]
  },
  {
   "cell_type": "code",
   "execution_count": 2,
   "metadata": {},
   "outputs": [
    {
     "data": {
      "text/html": [
       "<div>\n",
       "<style scoped>\n",
       "    .dataframe tbody tr th:only-of-type {\n",
       "        vertical-align: middle;\n",
       "    }\n",
       "\n",
       "    .dataframe tbody tr th {\n",
       "        vertical-align: top;\n",
       "    }\n",
       "\n",
       "    .dataframe thead th {\n",
       "        text-align: right;\n",
       "    }\n",
       "</style>\n",
       "<table border=\"1\" class=\"dataframe\">\n",
       "  <thead>\n",
       "    <tr style=\"text-align: right;\">\n",
       "      <th></th>\n",
       "      <th>fname</th>\n",
       "      <th>lname</th>\n",
       "      <th>gender</th>\n",
       "      <th>age</th>\n",
       "      <th>exercise</th>\n",
       "      <th>hours</th>\n",
       "      <th>grade</th>\n",
       "      <th>address</th>\n",
       "    </tr>\n",
       "  </thead>\n",
       "  <tbody>\n",
       "    <tr>\n",
       "      <th>0</th>\n",
       "      <td>Marcia</td>\n",
       "      <td>Pugh</td>\n",
       "      <td>female</td>\n",
       "      <td>17</td>\n",
       "      <td>3</td>\n",
       "      <td>10</td>\n",
       "      <td>82.4</td>\n",
       "      <td>9253 Richardson Road, Matawan, NJ 07747</td>\n",
       "    </tr>\n",
       "    <tr>\n",
       "      <th>1</th>\n",
       "      <td>Kadeem</td>\n",
       "      <td>Morrison</td>\n",
       "      <td>male</td>\n",
       "      <td>18</td>\n",
       "      <td>4</td>\n",
       "      <td>4</td>\n",
       "      <td>78.2</td>\n",
       "      <td>33 Spring Dr., Taunton, MA 02780</td>\n",
       "    </tr>\n",
       "    <tr>\n",
       "      <th>2</th>\n",
       "      <td>Nash</td>\n",
       "      <td>Powell</td>\n",
       "      <td>male</td>\n",
       "      <td>18</td>\n",
       "      <td>5</td>\n",
       "      <td>9</td>\n",
       "      <td>79.3</td>\n",
       "      <td>41 Hill Avenue, Mentor, OH 44060</td>\n",
       "    </tr>\n",
       "    <tr>\n",
       "      <th>3</th>\n",
       "      <td>Noelani</td>\n",
       "      <td>Wagner</td>\n",
       "      <td>female</td>\n",
       "      <td>14</td>\n",
       "      <td>2</td>\n",
       "      <td>7</td>\n",
       "      <td>83.2</td>\n",
       "      <td>8839 Marshall St., Miami, FL 33125</td>\n",
       "    </tr>\n",
       "    <tr>\n",
       "      <th>4</th>\n",
       "      <td>Noelani</td>\n",
       "      <td>Cherry</td>\n",
       "      <td>female</td>\n",
       "      <td>18</td>\n",
       "      <td>4</td>\n",
       "      <td>15</td>\n",
       "      <td>87.4</td>\n",
       "      <td>8304 Charles Rd., Lewis Center, OH 43035</td>\n",
       "    </tr>\n",
       "    <tr>\n",
       "      <th>...</th>\n",
       "      <td>...</td>\n",
       "      <td>...</td>\n",
       "      <td>...</td>\n",
       "      <td>...</td>\n",
       "      <td>...</td>\n",
       "      <td>...</td>\n",
       "      <td>...</td>\n",
       "      <td>...</td>\n",
       "    </tr>\n",
       "    <tr>\n",
       "      <th>1995</th>\n",
       "      <td>Cody</td>\n",
       "      <td>Shepherd</td>\n",
       "      <td>male</td>\n",
       "      <td>19</td>\n",
       "      <td>1</td>\n",
       "      <td>8</td>\n",
       "      <td>80.1</td>\n",
       "      <td>982 West Street, Alexandria, VA 22304</td>\n",
       "    </tr>\n",
       "    <tr>\n",
       "      <th>1996</th>\n",
       "      <td>Geraldine</td>\n",
       "      <td>Peterson</td>\n",
       "      <td>female</td>\n",
       "      <td>16</td>\n",
       "      <td>4</td>\n",
       "      <td>18</td>\n",
       "      <td>100.0</td>\n",
       "      <td>78 Morris Street, East Northport, NY 11731</td>\n",
       "    </tr>\n",
       "    <tr>\n",
       "      <th>1997</th>\n",
       "      <td>Mercedes</td>\n",
       "      <td>Leon</td>\n",
       "      <td>female</td>\n",
       "      <td>18</td>\n",
       "      <td>3</td>\n",
       "      <td>14</td>\n",
       "      <td>84.9</td>\n",
       "      <td>30 Glenridge Rd., Bountiful, UT 84010</td>\n",
       "    </tr>\n",
       "    <tr>\n",
       "      <th>1998</th>\n",
       "      <td>Lucius</td>\n",
       "      <td>Rowland</td>\n",
       "      <td>male</td>\n",
       "      <td>16</td>\n",
       "      <td>1</td>\n",
       "      <td>7</td>\n",
       "      <td>69.1</td>\n",
       "      <td>342 West Meadowbrook Lane, Helena, MT 59601</td>\n",
       "    </tr>\n",
       "    <tr>\n",
       "      <th>1999</th>\n",
       "      <td>Linus</td>\n",
       "      <td>Morris</td>\n",
       "      <td>male</td>\n",
       "      <td>19</td>\n",
       "      <td>4</td>\n",
       "      <td>10</td>\n",
       "      <td>79.6</td>\n",
       "      <td>81 Homestead Drive, Voorhees, NJ 08043</td>\n",
       "    </tr>\n",
       "  </tbody>\n",
       "</table>\n",
       "<p>1946 rows × 8 columns</p>\n",
       "</div>"
      ],
      "text/plain": [
       "          fname     lname  gender  age  exercise  hours  grade  \\\n",
       "0        Marcia      Pugh  female   17         3     10   82.4   \n",
       "1        Kadeem  Morrison    male   18         4      4   78.2   \n",
       "2          Nash    Powell    male   18         5      9   79.3   \n",
       "3       Noelani    Wagner  female   14         2      7   83.2   \n",
       "4       Noelani    Cherry  female   18         4     15   87.4   \n",
       "...         ...       ...     ...  ...       ...    ...    ...   \n",
       "1995       Cody  Shepherd    male   19         1      8   80.1   \n",
       "1996  Geraldine  Peterson  female   16         4     18  100.0   \n",
       "1997   Mercedes      Leon  female   18         3     14   84.9   \n",
       "1998     Lucius   Rowland    male   16         1      7   69.1   \n",
       "1999      Linus    Morris    male   19         4     10   79.6   \n",
       "\n",
       "                                          address  \n",
       "0         9253 Richardson Road, Matawan, NJ 07747  \n",
       "1                33 Spring Dr., Taunton, MA 02780  \n",
       "2                41 Hill Avenue, Mentor, OH 44060  \n",
       "3              8839 Marshall St., Miami, FL 33125  \n",
       "4        8304 Charles Rd., Lewis Center, OH 43035  \n",
       "...                                           ...  \n",
       "1995        982 West Street, Alexandria, VA 22304  \n",
       "1996   78 Morris Street, East Northport, NY 11731  \n",
       "1997        30 Glenridge Rd., Bountiful, UT 84010  \n",
       "1998  342 West Meadowbrook Lane, Helena, MT 59601  \n",
       "1999       81 Homestead Drive, Voorhees, NJ 08043  \n",
       "\n",
       "[1946 rows x 8 columns]"
      ]
     },
     "execution_count": 2,
     "metadata": {},
     "output_type": "execute_result"
    }
   ],
   "source": [
    "# Método 1: Desvio Padrão\n",
    "import pandas as pd\n",
    "\n",
    "caminho = \"datasets/gradedata.csv\" \n",
    "df = pd.read_csv(caminho) \n",
    "\n",
    "media_notas = df['grade'].mean()\n",
    "desvio_notas = df['grade'].std() \n",
    "\n",
    "valores_altos = media_notas + desvio_notas * 1.96 \n",
    "valores_baixos = media_notas - desvio_notas * 1.96 \n",
    "\n",
    "copia_df = df \n",
    "\n",
    "copia_df = copia_df.drop(copia_df[copia_df['grade'] > valores_altos].index)\n",
    "copia_df = copia_df.drop(copia_df[copia_df['grade'] < valores_baixos].index)\n",
    "\n",
    "copia_df"
   ]
  },
  {
   "attachments": {},
   "cell_type": "markdown",
   "metadata": {},
   "source": [
    "- Linha 10: Aqui calculamos o intervalo superior igual a 1,96 vezes o desvio padrão mais a média.\n",
    "- Linha 11: Aqui calculamos o intervalo inferior igual a 1,96 vezes o desvio padrão subtraído do desvio.\n",
    "- Linha 15: Aqui descartamos as linhas onde a nota é maior do que o toprange.\n",
    "- Linha 16: Aqui descartamos as linhas onde está a nota inferior ao botrange."
   ]
  },
  {
   "cell_type": "code",
   "execution_count": 3,
   "metadata": {},
   "outputs": [
    {
     "data": {
      "text/html": [
       "<div>\n",
       "<style scoped>\n",
       "    .dataframe tbody tr th:only-of-type {\n",
       "        vertical-align: middle;\n",
       "    }\n",
       "\n",
       "    .dataframe tbody tr th {\n",
       "        vertical-align: top;\n",
       "    }\n",
       "\n",
       "    .dataframe thead th {\n",
       "        text-align: right;\n",
       "    }\n",
       "</style>\n",
       "<table border=\"1\" class=\"dataframe\">\n",
       "  <thead>\n",
       "    <tr style=\"text-align: right;\">\n",
       "      <th></th>\n",
       "      <th>fname</th>\n",
       "      <th>lname</th>\n",
       "      <th>gender</th>\n",
       "      <th>age</th>\n",
       "      <th>exercise</th>\n",
       "      <th>hours</th>\n",
       "      <th>grade</th>\n",
       "      <th>address</th>\n",
       "    </tr>\n",
       "  </thead>\n",
       "  <tbody>\n",
       "    <tr>\n",
       "      <th>0</th>\n",
       "      <td>Marcia</td>\n",
       "      <td>Pugh</td>\n",
       "      <td>female</td>\n",
       "      <td>17</td>\n",
       "      <td>3</td>\n",
       "      <td>10</td>\n",
       "      <td>82.4</td>\n",
       "      <td>9253 Richardson Road, Matawan, NJ 07747</td>\n",
       "    </tr>\n",
       "    <tr>\n",
       "      <th>1</th>\n",
       "      <td>Kadeem</td>\n",
       "      <td>Morrison</td>\n",
       "      <td>male</td>\n",
       "      <td>18</td>\n",
       "      <td>4</td>\n",
       "      <td>4</td>\n",
       "      <td>78.2</td>\n",
       "      <td>33 Spring Dr., Taunton, MA 02780</td>\n",
       "    </tr>\n",
       "    <tr>\n",
       "      <th>2</th>\n",
       "      <td>Nash</td>\n",
       "      <td>Powell</td>\n",
       "      <td>male</td>\n",
       "      <td>18</td>\n",
       "      <td>5</td>\n",
       "      <td>9</td>\n",
       "      <td>79.3</td>\n",
       "      <td>41 Hill Avenue, Mentor, OH 44060</td>\n",
       "    </tr>\n",
       "    <tr>\n",
       "      <th>3</th>\n",
       "      <td>Noelani</td>\n",
       "      <td>Wagner</td>\n",
       "      <td>female</td>\n",
       "      <td>14</td>\n",
       "      <td>2</td>\n",
       "      <td>7</td>\n",
       "      <td>83.2</td>\n",
       "      <td>8839 Marshall St., Miami, FL 33125</td>\n",
       "    </tr>\n",
       "    <tr>\n",
       "      <th>4</th>\n",
       "      <td>Noelani</td>\n",
       "      <td>Cherry</td>\n",
       "      <td>female</td>\n",
       "      <td>18</td>\n",
       "      <td>4</td>\n",
       "      <td>15</td>\n",
       "      <td>87.4</td>\n",
       "      <td>8304 Charles Rd., Lewis Center, OH 43035</td>\n",
       "    </tr>\n",
       "    <tr>\n",
       "      <th>...</th>\n",
       "      <td>...</td>\n",
       "      <td>...</td>\n",
       "      <td>...</td>\n",
       "      <td>...</td>\n",
       "      <td>...</td>\n",
       "      <td>...</td>\n",
       "      <td>...</td>\n",
       "      <td>...</td>\n",
       "    </tr>\n",
       "    <tr>\n",
       "      <th>1995</th>\n",
       "      <td>Cody</td>\n",
       "      <td>Shepherd</td>\n",
       "      <td>male</td>\n",
       "      <td>19</td>\n",
       "      <td>1</td>\n",
       "      <td>8</td>\n",
       "      <td>80.1</td>\n",
       "      <td>982 West Street, Alexandria, VA 22304</td>\n",
       "    </tr>\n",
       "    <tr>\n",
       "      <th>1996</th>\n",
       "      <td>Geraldine</td>\n",
       "      <td>Peterson</td>\n",
       "      <td>female</td>\n",
       "      <td>16</td>\n",
       "      <td>4</td>\n",
       "      <td>18</td>\n",
       "      <td>100.0</td>\n",
       "      <td>78 Morris Street, East Northport, NY 11731</td>\n",
       "    </tr>\n",
       "    <tr>\n",
       "      <th>1997</th>\n",
       "      <td>Mercedes</td>\n",
       "      <td>Leon</td>\n",
       "      <td>female</td>\n",
       "      <td>18</td>\n",
       "      <td>3</td>\n",
       "      <td>14</td>\n",
       "      <td>84.9</td>\n",
       "      <td>30 Glenridge Rd., Bountiful, UT 84010</td>\n",
       "    </tr>\n",
       "    <tr>\n",
       "      <th>1998</th>\n",
       "      <td>Lucius</td>\n",
       "      <td>Rowland</td>\n",
       "      <td>male</td>\n",
       "      <td>16</td>\n",
       "      <td>1</td>\n",
       "      <td>7</td>\n",
       "      <td>69.1</td>\n",
       "      <td>342 West Meadowbrook Lane, Helena, MT 59601</td>\n",
       "    </tr>\n",
       "    <tr>\n",
       "      <th>1999</th>\n",
       "      <td>Linus</td>\n",
       "      <td>Morris</td>\n",
       "      <td>male</td>\n",
       "      <td>19</td>\n",
       "      <td>4</td>\n",
       "      <td>10</td>\n",
       "      <td>79.6</td>\n",
       "      <td>81 Homestead Drive, Voorhees, NJ 08043</td>\n",
       "    </tr>\n",
       "  </tbody>\n",
       "</table>\n",
       "<p>1998 rows × 8 columns</p>\n",
       "</div>"
      ],
      "text/plain": [
       "          fname     lname  gender  age  exercise  hours  grade  \\\n",
       "0        Marcia      Pugh  female   17         3     10   82.4   \n",
       "1        Kadeem  Morrison    male   18         4      4   78.2   \n",
       "2          Nash    Powell    male   18         5      9   79.3   \n",
       "3       Noelani    Wagner  female   14         2      7   83.2   \n",
       "4       Noelani    Cherry  female   18         4     15   87.4   \n",
       "...         ...       ...     ...  ...       ...    ...    ...   \n",
       "1995       Cody  Shepherd    male   19         1      8   80.1   \n",
       "1996  Geraldine  Peterson  female   16         4     18  100.0   \n",
       "1997   Mercedes      Leon  female   18         3     14   84.9   \n",
       "1998     Lucius   Rowland    male   16         1      7   69.1   \n",
       "1999      Linus    Morris    male   19         4     10   79.6   \n",
       "\n",
       "                                          address  \n",
       "0         9253 Richardson Road, Matawan, NJ 07747  \n",
       "1                33 Spring Dr., Taunton, MA 02780  \n",
       "2                41 Hill Avenue, Mentor, OH 44060  \n",
       "3              8839 Marshall St., Miami, FL 33125  \n",
       "4        8304 Charles Rd., Lewis Center, OH 43035  \n",
       "...                                           ...  \n",
       "1995        982 West Street, Alexandria, VA 22304  \n",
       "1996   78 Morris Street, East Northport, NY 11731  \n",
       "1997        30 Glenridge Rd., Bountiful, UT 84010  \n",
       "1998  342 West Meadowbrook Lane, Helena, MT 59601  \n",
       "1999       81 Homestead Drive, Voorhees, NJ 08043  \n",
       "\n",
       "[1998 rows x 8 columns]"
      ]
     },
     "execution_count": 3,
     "metadata": {},
     "output_type": "execute_result"
    }
   ],
   "source": [
    "# Método 2: Intervalo Interquartílico\n",
    "caminho = \"datasets/gradedata.csv\" \n",
    "\n",
    "df = pd.read_csv(caminho) \n",
    "\n",
    "q1 = df['grade'].quantile(.25) \n",
    "q3 = df['grade'].quantile(.75) \n",
    "\n",
    "iqr = q3-q1\n",
    "valores_altos = q3 + iqr * 1.5\n",
    "valores_baixos = q1 - iqr * 1.5\n",
    "\n",
    "copia_df = df\n",
    "\n",
    "copia_df = copia_df.drop(copia_df[copia_df['grade'] > valores_altos].index)\n",
    "copia_df = copia_df.drop(copia_df[copia_df['grade'] < valores_baixos].index)\n",
    "\n",
    "copia_df"
   ]
  },
  {
   "attachments": {},
   "cell_type": "markdown",
   "metadata": {},
   "source": [
    "- Linha 10: Aqui calculamos o `limite superior = o terceiro quartil + 1,5 * o IQR.`\n",
    "- Linha 11: Aqui calculamos o `limite inferior = o primeiro quartil - 1,5 *\n",
    "o IQR.`\n",
    "- Linha 15: Aqui descartamos as linhas onde estão as notas\n",
    "mais altas que o `valores_altos`.\n",
    "- Linha 14: Aqui descartamos as linhas onde está a nota é inferior aos `valores_baixos`."
   ]
  },
  {
   "attachments": {},
   "cell_type": "markdown",
   "metadata": {},
   "source": [
    "Carregue o conjunto de dados datasets/outlierdata.csv. Experimente com ambos os métodos."
   ]
  },
  {
   "cell_type": "code",
   "execution_count": 6,
   "metadata": {},
   "outputs": [
    {
     "data": {
      "text/html": [
       "<div>\n",
       "<style scoped>\n",
       "    .dataframe tbody tr th:only-of-type {\n",
       "        vertical-align: middle;\n",
       "    }\n",
       "\n",
       "    .dataframe tbody tr th {\n",
       "        vertical-align: top;\n",
       "    }\n",
       "\n",
       "    .dataframe thead th {\n",
       "        text-align: right;\n",
       "    }\n",
       "</style>\n",
       "<table border=\"1\" class=\"dataframe\">\n",
       "  <thead>\n",
       "    <tr style=\"text-align: right;\">\n",
       "      <th></th>\n",
       "      <th>Name</th>\n",
       "      <th>Net Worth</th>\n",
       "    </tr>\n",
       "  </thead>\n",
       "  <tbody>\n",
       "    <tr>\n",
       "      <th>0</th>\n",
       "      <td>Stella B. Battle</td>\n",
       "      <td>13853</td>\n",
       "    </tr>\n",
       "    <tr>\n",
       "      <th>1</th>\n",
       "      <td>Virginia Q. Salas</td>\n",
       "      <td>18065</td>\n",
       "    </tr>\n",
       "    <tr>\n",
       "      <th>2</th>\n",
       "      <td>Keiko S. Berry</td>\n",
       "      <td>6169</td>\n",
       "    </tr>\n",
       "    <tr>\n",
       "      <th>3</th>\n",
       "      <td>Dustin U. Hopkins</td>\n",
       "      <td>4857</td>\n",
       "    </tr>\n",
       "    <tr>\n",
       "      <th>4</th>\n",
       "      <td>Sloane O. Atkins</td>\n",
       "      <td>14022</td>\n",
       "    </tr>\n",
       "    <tr>\n",
       "      <th>...</th>\n",
       "      <td>...</td>\n",
       "      <td>...</td>\n",
       "    </tr>\n",
       "    <tr>\n",
       "      <th>95</th>\n",
       "      <td>Barbara Z. Rivera</td>\n",
       "      <td>17272</td>\n",
       "    </tr>\n",
       "    <tr>\n",
       "      <th>96</th>\n",
       "      <td>Lilah Q. Porter</td>\n",
       "      <td>-9786</td>\n",
       "    </tr>\n",
       "    <tr>\n",
       "      <th>97</th>\n",
       "      <td>Angelica Z. King</td>\n",
       "      <td>3</td>\n",
       "    </tr>\n",
       "    <tr>\n",
       "      <th>98</th>\n",
       "      <td>Delilah N. Sweet</td>\n",
       "      <td>350</td>\n",
       "    </tr>\n",
       "    <tr>\n",
       "      <th>99</th>\n",
       "      <td>Valentine X. Henry</td>\n",
       "      <td>3099</td>\n",
       "    </tr>\n",
       "  </tbody>\n",
       "</table>\n",
       "<p>98 rows × 2 columns</p>\n",
       "</div>"
      ],
      "text/plain": [
       "                  Name  Net Worth\n",
       "0     Stella B. Battle      13853\n",
       "1    Virginia Q. Salas      18065\n",
       "2       Keiko S. Berry       6169\n",
       "3    Dustin U. Hopkins       4857\n",
       "4     Sloane O. Atkins      14022\n",
       "..                 ...        ...\n",
       "95   Barbara Z. Rivera      17272\n",
       "96     Lilah Q. Porter      -9786\n",
       "97    Angelica Z. King          3\n",
       "98    Delilah N. Sweet        350\n",
       "99  Valentine X. Henry       3099\n",
       "\n",
       "[98 rows x 2 columns]"
      ]
     },
     "execution_count": 6,
     "metadata": {},
     "output_type": "execute_result"
    }
   ],
   "source": [
    "# Método 1: Desvio Padrão\n",
    "caminho = \"datasets/outlierdata.csv\" \n",
    "\n",
    "df = pd.read_csv(caminho) \n",
    "\n",
    "media_notas = df['Net Worth'].mean()\n",
    "desvio_notas = df['Net Worth'].std() \n",
    "\n",
    "valores_altos = media_notas + desvio_notas * 1.96 \n",
    "valores_baixos = media_notas - desvio_notas * 1.96 \n",
    "\n",
    "copia_df = df \n",
    "\n",
    "copia_df = copia_df.drop(copia_df[copia_df['Net Worth'] > valores_altos].index)\n",
    "copia_df = copia_df.drop(copia_df[copia_df['Net Worth'] < valores_baixos].index)\n",
    "\n",
    "copia_df"
   ]
  },
  {
   "cell_type": "code",
   "execution_count": 7,
   "metadata": {},
   "outputs": [
    {
     "data": {
      "text/html": [
       "<div>\n",
       "<style scoped>\n",
       "    .dataframe tbody tr th:only-of-type {\n",
       "        vertical-align: middle;\n",
       "    }\n",
       "\n",
       "    .dataframe tbody tr th {\n",
       "        vertical-align: top;\n",
       "    }\n",
       "\n",
       "    .dataframe thead th {\n",
       "        text-align: right;\n",
       "    }\n",
       "</style>\n",
       "<table border=\"1\" class=\"dataframe\">\n",
       "  <thead>\n",
       "    <tr style=\"text-align: right;\">\n",
       "      <th></th>\n",
       "      <th>Name</th>\n",
       "      <th>Net Worth</th>\n",
       "    </tr>\n",
       "  </thead>\n",
       "  <tbody>\n",
       "    <tr>\n",
       "      <th>0</th>\n",
       "      <td>Stella B. Battle</td>\n",
       "      <td>13853</td>\n",
       "    </tr>\n",
       "    <tr>\n",
       "      <th>1</th>\n",
       "      <td>Virginia Q. Salas</td>\n",
       "      <td>18065</td>\n",
       "    </tr>\n",
       "    <tr>\n",
       "      <th>2</th>\n",
       "      <td>Keiko S. Berry</td>\n",
       "      <td>6169</td>\n",
       "    </tr>\n",
       "    <tr>\n",
       "      <th>3</th>\n",
       "      <td>Dustin U. Hopkins</td>\n",
       "      <td>4857</td>\n",
       "    </tr>\n",
       "    <tr>\n",
       "      <th>4</th>\n",
       "      <td>Sloane O. Atkins</td>\n",
       "      <td>14022</td>\n",
       "    </tr>\n",
       "    <tr>\n",
       "      <th>...</th>\n",
       "      <td>...</td>\n",
       "      <td>...</td>\n",
       "    </tr>\n",
       "    <tr>\n",
       "      <th>95</th>\n",
       "      <td>Barbara Z. Rivera</td>\n",
       "      <td>17272</td>\n",
       "    </tr>\n",
       "    <tr>\n",
       "      <th>96</th>\n",
       "      <td>Lilah Q. Porter</td>\n",
       "      <td>-9786</td>\n",
       "    </tr>\n",
       "    <tr>\n",
       "      <th>97</th>\n",
       "      <td>Angelica Z. King</td>\n",
       "      <td>3</td>\n",
       "    </tr>\n",
       "    <tr>\n",
       "      <th>98</th>\n",
       "      <td>Delilah N. Sweet</td>\n",
       "      <td>350</td>\n",
       "    </tr>\n",
       "    <tr>\n",
       "      <th>99</th>\n",
       "      <td>Valentine X. Henry</td>\n",
       "      <td>3099</td>\n",
       "    </tr>\n",
       "  </tbody>\n",
       "</table>\n",
       "<p>97 rows × 2 columns</p>\n",
       "</div>"
      ],
      "text/plain": [
       "                  Name  Net Worth\n",
       "0     Stella B. Battle      13853\n",
       "1    Virginia Q. Salas      18065\n",
       "2       Keiko S. Berry       6169\n",
       "3    Dustin U. Hopkins       4857\n",
       "4     Sloane O. Atkins      14022\n",
       "..                 ...        ...\n",
       "95   Barbara Z. Rivera      17272\n",
       "96     Lilah Q. Porter      -9786\n",
       "97    Angelica Z. King          3\n",
       "98    Delilah N. Sweet        350\n",
       "99  Valentine X. Henry       3099\n",
       "\n",
       "[97 rows x 2 columns]"
      ]
     },
     "execution_count": 7,
     "metadata": {},
     "output_type": "execute_result"
    }
   ],
   "source": [
    "# Método 2: Intervalo Interquartílico\n",
    "caminho = \"datasets/outlierdata.csv\" \n",
    "\n",
    "df = pd.read_csv(caminho) \n",
    "\n",
    "q1 = df['Net Worth'].quantile(.25) \n",
    "q3 = df['Net Worth'].quantile(.75) \n",
    "\n",
    "iqr = q3-q1\n",
    "valores_altos = q3 + iqr * 1.5\n",
    "valores_baixos = q1 - iqr * 1.5\n",
    "\n",
    "copia_df = df\n",
    "\n",
    "copia_df = copia_df.drop(copia_df[copia_df['Net Worth'] > valores_altos].index)\n",
    "copia_df = copia_df.drop(copia_df[copia_df['Net Worth'] < valores_baixos].index)\n",
    "\n",
    "copia_df"
   ]
  },
  {
   "attachments": {},
   "cell_type": "markdown",
   "metadata": {},
   "source": [
    "#### Dados ausentes no Dataframe do pandas"
   ]
  },
  {
   "attachments": {},
   "cell_type": "markdown",
   "metadata": {},
   "source": [
    "Uma das coisas mais irritantes ao trabalhar com grandes conjuntos de dados é encontrar os dados que faltam. Pode tornar impossível ou imprevisível computar a maioria das estatísticas agregadas ou gerar tabelas dinâmicas. Se você procurar pontos de dados ausentes em um conjunto de dados de 50 linhas, será bastante fácil. No entanto, se você tentar encontrar um ponto de dados ausente em um conjunto de dados de 500.000 linhas, pode ser muito mais difícil."
   ]
  },
  {
   "attachments": {},
   "cell_type": "markdown",
   "metadata": {},
   "source": [
    "A biblioteca `pandas` do Python tem funções para ajudá-lo a encontrar, excluir ou altere os dados ausentes."
   ]
  },
  {
   "cell_type": "code",
   "execution_count": 8,
   "metadata": {},
   "outputs": [
    {
     "data": {
      "text/html": [
       "<div>\n",
       "<style scoped>\n",
       "    .dataframe tbody tr th:only-of-type {\n",
       "        vertical-align: middle;\n",
       "    }\n",
       "\n",
       "    .dataframe tbody tr th {\n",
       "        vertical-align: top;\n",
       "    }\n",
       "\n",
       "    .dataframe thead th {\n",
       "        text-align: right;\n",
       "    }\n",
       "</style>\n",
       "<table border=\"1\" class=\"dataframe\">\n",
       "  <thead>\n",
       "    <tr style=\"text-align: right;\">\n",
       "      <th></th>\n",
       "      <th>fname</th>\n",
       "      <th>lname</th>\n",
       "      <th>gender</th>\n",
       "      <th>age</th>\n",
       "      <th>exercise</th>\n",
       "      <th>hours</th>\n",
       "      <th>grade</th>\n",
       "      <th>address</th>\n",
       "    </tr>\n",
       "  </thead>\n",
       "  <tbody>\n",
       "    <tr>\n",
       "      <th>0</th>\n",
       "      <td>Marcia</td>\n",
       "      <td>Pugh</td>\n",
       "      <td>female</td>\n",
       "      <td>17.0</td>\n",
       "      <td>3.0</td>\n",
       "      <td>10.0</td>\n",
       "      <td>82.4</td>\n",
       "      <td>9253 Richardson Road, Matawan, NJ 07747</td>\n",
       "    </tr>\n",
       "    <tr>\n",
       "      <th>1</th>\n",
       "      <td>Kadeem</td>\n",
       "      <td>Morrison</td>\n",
       "      <td>male</td>\n",
       "      <td>18.0</td>\n",
       "      <td>4.0</td>\n",
       "      <td>4.0</td>\n",
       "      <td>78.2</td>\n",
       "      <td>33 Spring Dr., Taunton, MA 02780</td>\n",
       "    </tr>\n",
       "    <tr>\n",
       "      <th>2</th>\n",
       "      <td>Nash</td>\n",
       "      <td>Powell</td>\n",
       "      <td>male</td>\n",
       "      <td>18.0</td>\n",
       "      <td>5.0</td>\n",
       "      <td>9.0</td>\n",
       "      <td>79.3</td>\n",
       "      <td>41 Hill Avenue, Mentor, OH 44060</td>\n",
       "    </tr>\n",
       "    <tr>\n",
       "      <th>3</th>\n",
       "      <td>Noelani</td>\n",
       "      <td>Wagner</td>\n",
       "      <td>female</td>\n",
       "      <td>14.0</td>\n",
       "      <td>2.0</td>\n",
       "      <td>7.0</td>\n",
       "      <td>83.2</td>\n",
       "      <td>8839 Marshall St., Miami, FL 33125</td>\n",
       "    </tr>\n",
       "    <tr>\n",
       "      <th>4</th>\n",
       "      <td>Noelani</td>\n",
       "      <td>Cherry</td>\n",
       "      <td>female</td>\n",
       "      <td>18.0</td>\n",
       "      <td>4.0</td>\n",
       "      <td>15.0</td>\n",
       "      <td>87.4</td>\n",
       "      <td>8304 Charles Rd., Lewis Center, OH 43035</td>\n",
       "    </tr>\n",
       "  </tbody>\n",
       "</table>\n",
       "</div>"
      ],
      "text/plain": [
       "     fname     lname  gender   age  exercise  hours  grade  \\\n",
       "0   Marcia      Pugh  female  17.0       3.0   10.0   82.4   \n",
       "1   Kadeem  Morrison    male  18.0       4.0    4.0   78.2   \n",
       "2     Nash    Powell    male  18.0       5.0    9.0   79.3   \n",
       "3  Noelani    Wagner  female  14.0       2.0    7.0   83.2   \n",
       "4  Noelani    Cherry  female  18.0       4.0   15.0   87.4   \n",
       "\n",
       "                                    address  \n",
       "0   9253 Richardson Road, Matawan, NJ 07747  \n",
       "1          33 Spring Dr., Taunton, MA 02780  \n",
       "2          41 Hill Avenue, Mentor, OH 44060  \n",
       "3        8839 Marshall St., Miami, FL 33125  \n",
       "4  8304 Charles Rd., Lewis Center, OH 43035  "
      ]
     },
     "execution_count": 8,
     "metadata": {},
     "output_type": "execute_result"
    }
   ],
   "source": [
    "# Criando Dataframe com dados ausentes\n",
    "\n",
    "import pandas as pd \n",
    "df = pd.read_csv(\"datasets/gradedatamissing.csv\") \n",
    "\n",
    "df.head()"
   ]
  },
  {
   "attachments": {},
   "cell_type": "markdown",
   "metadata": {},
   "source": [
    "O código anterior carrega um conjunto de dados legítimo que inclui linhas com dados\n",
    "ausentes. Podemos usar o dataframe resultante para praticar como lidar com dados ausentes."
   ]
  },
  {
   "attachments": {},
   "cell_type": "markdown",
   "metadata": {},
   "source": [
    "Para descartar todas as linhas com dados ausentes (NaN), use o código mostrado em"
   ]
  },
  {
   "cell_type": "code",
   "execution_count": 9,
   "metadata": {},
   "outputs": [
    {
     "data": {
      "text/html": [
       "<div>\n",
       "<style scoped>\n",
       "    .dataframe tbody tr th:only-of-type {\n",
       "        vertical-align: middle;\n",
       "    }\n",
       "\n",
       "    .dataframe tbody tr th {\n",
       "        vertical-align: top;\n",
       "    }\n",
       "\n",
       "    .dataframe thead th {\n",
       "        text-align: right;\n",
       "    }\n",
       "</style>\n",
       "<table border=\"1\" class=\"dataframe\">\n",
       "  <thead>\n",
       "    <tr style=\"text-align: right;\">\n",
       "      <th></th>\n",
       "      <th>fname</th>\n",
       "      <th>lname</th>\n",
       "      <th>gender</th>\n",
       "      <th>age</th>\n",
       "      <th>exercise</th>\n",
       "      <th>hours</th>\n",
       "      <th>grade</th>\n",
       "      <th>address</th>\n",
       "    </tr>\n",
       "  </thead>\n",
       "  <tbody>\n",
       "    <tr>\n",
       "      <th>0</th>\n",
       "      <td>Marcia</td>\n",
       "      <td>Pugh</td>\n",
       "      <td>female</td>\n",
       "      <td>17.0</td>\n",
       "      <td>3.0</td>\n",
       "      <td>10.0</td>\n",
       "      <td>82.4</td>\n",
       "      <td>9253 Richardson Road, Matawan, NJ 07747</td>\n",
       "    </tr>\n",
       "    <tr>\n",
       "      <th>1</th>\n",
       "      <td>Kadeem</td>\n",
       "      <td>Morrison</td>\n",
       "      <td>male</td>\n",
       "      <td>18.0</td>\n",
       "      <td>4.0</td>\n",
       "      <td>4.0</td>\n",
       "      <td>78.2</td>\n",
       "      <td>33 Spring Dr., Taunton, MA 02780</td>\n",
       "    </tr>\n",
       "    <tr>\n",
       "      <th>2</th>\n",
       "      <td>Nash</td>\n",
       "      <td>Powell</td>\n",
       "      <td>male</td>\n",
       "      <td>18.0</td>\n",
       "      <td>5.0</td>\n",
       "      <td>9.0</td>\n",
       "      <td>79.3</td>\n",
       "      <td>41 Hill Avenue, Mentor, OH 44060</td>\n",
       "    </tr>\n",
       "    <tr>\n",
       "      <th>3</th>\n",
       "      <td>Noelani</td>\n",
       "      <td>Wagner</td>\n",
       "      <td>female</td>\n",
       "      <td>14.0</td>\n",
       "      <td>2.0</td>\n",
       "      <td>7.0</td>\n",
       "      <td>83.2</td>\n",
       "      <td>8839 Marshall St., Miami, FL 33125</td>\n",
       "    </tr>\n",
       "    <tr>\n",
       "      <th>4</th>\n",
       "      <td>Noelani</td>\n",
       "      <td>Cherry</td>\n",
       "      <td>female</td>\n",
       "      <td>18.0</td>\n",
       "      <td>4.0</td>\n",
       "      <td>15.0</td>\n",
       "      <td>87.4</td>\n",
       "      <td>8304 Charles Rd., Lewis Center, OH 43035</td>\n",
       "    </tr>\n",
       "    <tr>\n",
       "      <th>...</th>\n",
       "      <td>...</td>\n",
       "      <td>...</td>\n",
       "      <td>...</td>\n",
       "      <td>...</td>\n",
       "      <td>...</td>\n",
       "      <td>...</td>\n",
       "      <td>...</td>\n",
       "      <td>...</td>\n",
       "    </tr>\n",
       "    <tr>\n",
       "      <th>1997</th>\n",
       "      <td>Cody</td>\n",
       "      <td>Shepherd</td>\n",
       "      <td>male</td>\n",
       "      <td>19.0</td>\n",
       "      <td>1.0</td>\n",
       "      <td>8.0</td>\n",
       "      <td>80.1</td>\n",
       "      <td>982 West Street, Alexandria, VA 22304</td>\n",
       "    </tr>\n",
       "    <tr>\n",
       "      <th>1998</th>\n",
       "      <td>Geraldine</td>\n",
       "      <td>Peterson</td>\n",
       "      <td>female</td>\n",
       "      <td>16.0</td>\n",
       "      <td>4.0</td>\n",
       "      <td>18.0</td>\n",
       "      <td>100.0</td>\n",
       "      <td>78 Morris Street, East Northport, NY 11731</td>\n",
       "    </tr>\n",
       "    <tr>\n",
       "      <th>1999</th>\n",
       "      <td>Mercedes</td>\n",
       "      <td>Leon</td>\n",
       "      <td>female</td>\n",
       "      <td>18.0</td>\n",
       "      <td>3.0</td>\n",
       "      <td>14.0</td>\n",
       "      <td>84.9</td>\n",
       "      <td>30 Glenridge Rd., Bountiful, UT 84010</td>\n",
       "    </tr>\n",
       "    <tr>\n",
       "      <th>2000</th>\n",
       "      <td>Lucius</td>\n",
       "      <td>Rowland</td>\n",
       "      <td>male</td>\n",
       "      <td>16.0</td>\n",
       "      <td>1.0</td>\n",
       "      <td>7.0</td>\n",
       "      <td>69.1</td>\n",
       "      <td>342 West Meadowbrook Lane, Helena, MT 59601</td>\n",
       "    </tr>\n",
       "    <tr>\n",
       "      <th>2001</th>\n",
       "      <td>Linus</td>\n",
       "      <td>Morris</td>\n",
       "      <td>male</td>\n",
       "      <td>19.0</td>\n",
       "      <td>4.0</td>\n",
       "      <td>10.0</td>\n",
       "      <td>79.6</td>\n",
       "      <td>81 Homestead Drive, Voorhees, NJ 08043</td>\n",
       "    </tr>\n",
       "  </tbody>\n",
       "</table>\n",
       "<p>1984 rows × 8 columns</p>\n",
       "</div>"
      ],
      "text/plain": [
       "          fname     lname  gender   age  exercise  hours  grade  \\\n",
       "0        Marcia      Pugh  female  17.0       3.0   10.0   82.4   \n",
       "1        Kadeem  Morrison    male  18.0       4.0    4.0   78.2   \n",
       "2          Nash    Powell    male  18.0       5.0    9.0   79.3   \n",
       "3       Noelani    Wagner  female  14.0       2.0    7.0   83.2   \n",
       "4       Noelani    Cherry  female  18.0       4.0   15.0   87.4   \n",
       "...         ...       ...     ...   ...       ...    ...    ...   \n",
       "1997       Cody  Shepherd    male  19.0       1.0    8.0   80.1   \n",
       "1998  Geraldine  Peterson  female  16.0       4.0   18.0  100.0   \n",
       "1999   Mercedes      Leon  female  18.0       3.0   14.0   84.9   \n",
       "2000     Lucius   Rowland    male  16.0       1.0    7.0   69.1   \n",
       "2001      Linus    Morris    male  19.0       4.0   10.0   79.6   \n",
       "\n",
       "                                          address  \n",
       "0         9253 Richardson Road, Matawan, NJ 07747  \n",
       "1                33 Spring Dr., Taunton, MA 02780  \n",
       "2                41 Hill Avenue, Mentor, OH 44060  \n",
       "3              8839 Marshall St., Miami, FL 33125  \n",
       "4        8304 Charles Rd., Lewis Center, OH 43035  \n",
       "...                                           ...  \n",
       "1997        982 West Street, Alexandria, VA 22304  \n",
       "1998   78 Morris Street, East Northport, NY 11731  \n",
       "1999        30 Glenridge Rd., Bountiful, UT 84010  \n",
       "2000  342 West Meadowbrook Lane, Helena, MT 59601  \n",
       "2001       81 Homestead Drive, Voorhees, NJ 08043  \n",
       "\n",
       "[1984 rows x 8 columns]"
      ]
     },
     "execution_count": 9,
     "metadata": {},
     "output_type": "execute_result"
    }
   ],
   "source": [
    "# Eliminar linhas com dados ausentes\n",
    "\n",
    "df_no_missing = df.dropna() \n",
    "df_no_missing"
   ]
  },
  {
   "attachments": {},
   "cell_type": "markdown",
   "metadata": {},
   "source": [
    "Para adicionar uma coluna preenchida com valores vazios, use o código da Listagem"
   ]
  },
  {
   "cell_type": "code",
   "execution_count": 10,
   "metadata": {},
   "outputs": [
    {
     "data": {
      "text/html": [
       "<div>\n",
       "<style scoped>\n",
       "    .dataframe tbody tr th:only-of-type {\n",
       "        vertical-align: middle;\n",
       "    }\n",
       "\n",
       "    .dataframe tbody tr th {\n",
       "        vertical-align: top;\n",
       "    }\n",
       "\n",
       "    .dataframe thead th {\n",
       "        text-align: right;\n",
       "    }\n",
       "</style>\n",
       "<table border=\"1\" class=\"dataframe\">\n",
       "  <thead>\n",
       "    <tr style=\"text-align: right;\">\n",
       "      <th></th>\n",
       "      <th>fname</th>\n",
       "      <th>lname</th>\n",
       "      <th>gender</th>\n",
       "      <th>age</th>\n",
       "      <th>exercise</th>\n",
       "      <th>hours</th>\n",
       "      <th>grade</th>\n",
       "      <th>address</th>\n",
       "      <th>newcol</th>\n",
       "    </tr>\n",
       "  </thead>\n",
       "  <tbody>\n",
       "    <tr>\n",
       "      <th>0</th>\n",
       "      <td>Marcia</td>\n",
       "      <td>Pugh</td>\n",
       "      <td>female</td>\n",
       "      <td>17.0</td>\n",
       "      <td>3.0</td>\n",
       "      <td>10.0</td>\n",
       "      <td>82.4</td>\n",
       "      <td>9253 Richardson Road, Matawan, NJ 07747</td>\n",
       "      <td>NaN</td>\n",
       "    </tr>\n",
       "    <tr>\n",
       "      <th>1</th>\n",
       "      <td>Kadeem</td>\n",
       "      <td>Morrison</td>\n",
       "      <td>male</td>\n",
       "      <td>18.0</td>\n",
       "      <td>4.0</td>\n",
       "      <td>4.0</td>\n",
       "      <td>78.2</td>\n",
       "      <td>33 Spring Dr., Taunton, MA 02780</td>\n",
       "      <td>NaN</td>\n",
       "    </tr>\n",
       "    <tr>\n",
       "      <th>2</th>\n",
       "      <td>Nash</td>\n",
       "      <td>Powell</td>\n",
       "      <td>male</td>\n",
       "      <td>18.0</td>\n",
       "      <td>5.0</td>\n",
       "      <td>9.0</td>\n",
       "      <td>79.3</td>\n",
       "      <td>41 Hill Avenue, Mentor, OH 44060</td>\n",
       "      <td>NaN</td>\n",
       "    </tr>\n",
       "    <tr>\n",
       "      <th>3</th>\n",
       "      <td>Noelani</td>\n",
       "      <td>Wagner</td>\n",
       "      <td>female</td>\n",
       "      <td>14.0</td>\n",
       "      <td>2.0</td>\n",
       "      <td>7.0</td>\n",
       "      <td>83.2</td>\n",
       "      <td>8839 Marshall St., Miami, FL 33125</td>\n",
       "      <td>NaN</td>\n",
       "    </tr>\n",
       "    <tr>\n",
       "      <th>4</th>\n",
       "      <td>Noelani</td>\n",
       "      <td>Cherry</td>\n",
       "      <td>female</td>\n",
       "      <td>18.0</td>\n",
       "      <td>4.0</td>\n",
       "      <td>15.0</td>\n",
       "      <td>87.4</td>\n",
       "      <td>8304 Charles Rd., Lewis Center, OH 43035</td>\n",
       "      <td>NaN</td>\n",
       "    </tr>\n",
       "  </tbody>\n",
       "</table>\n",
       "</div>"
      ],
      "text/plain": [
       "     fname     lname  gender   age  exercise  hours  grade  \\\n",
       "0   Marcia      Pugh  female  17.0       3.0   10.0   82.4   \n",
       "1   Kadeem  Morrison    male  18.0       4.0    4.0   78.2   \n",
       "2     Nash    Powell    male  18.0       5.0    9.0   79.3   \n",
       "3  Noelani    Wagner  female  14.0       2.0    7.0   83.2   \n",
       "4  Noelani    Cherry  female  18.0       4.0   15.0   87.4   \n",
       "\n",
       "                                    address  newcol  \n",
       "0   9253 Richardson Road, Matawan, NJ 07747     NaN  \n",
       "1          33 Spring Dr., Taunton, MA 02780     NaN  \n",
       "2          41 Hill Avenue, Mentor, OH 44060     NaN  \n",
       "3        8839 Marshall St., Miami, FL 33125     NaN  \n",
       "4  8304 Charles Rd., Lewis Center, OH 43035     NaN  "
      ]
     },
     "execution_count": 10,
     "metadata": {},
     "output_type": "execute_result"
    }
   ],
   "source": [
    "# Adicionar uma coluna com valores vazios\n",
    "import numpy as np\n",
    "\n",
    "df['newcol'] = np.nan \n",
    "df.head()"
   ]
  },
  {
   "attachments": {},
   "cell_type": "markdown",
   "metadata": {},
   "source": [
    "Para descartar quaisquer colunas que contenham apenas valores vazios\n",
    "consulte a Listagem"
   ]
  },
  {
   "cell_type": "code",
   "execution_count": 11,
   "metadata": {},
   "outputs": [
    {
     "data": {
      "text/html": [
       "<div>\n",
       "<style scoped>\n",
       "    .dataframe tbody tr th:only-of-type {\n",
       "        vertical-align: middle;\n",
       "    }\n",
       "\n",
       "    .dataframe tbody tr th {\n",
       "        vertical-align: top;\n",
       "    }\n",
       "\n",
       "    .dataframe thead th {\n",
       "        text-align: right;\n",
       "    }\n",
       "</style>\n",
       "<table border=\"1\" class=\"dataframe\">\n",
       "  <thead>\n",
       "    <tr style=\"text-align: right;\">\n",
       "      <th></th>\n",
       "      <th>fname</th>\n",
       "      <th>lname</th>\n",
       "      <th>gender</th>\n",
       "      <th>age</th>\n",
       "      <th>exercise</th>\n",
       "      <th>hours</th>\n",
       "      <th>grade</th>\n",
       "      <th>address</th>\n",
       "    </tr>\n",
       "  </thead>\n",
       "  <tbody>\n",
       "    <tr>\n",
       "      <th>0</th>\n",
       "      <td>Marcia</td>\n",
       "      <td>Pugh</td>\n",
       "      <td>female</td>\n",
       "      <td>17.0</td>\n",
       "      <td>3.0</td>\n",
       "      <td>10.0</td>\n",
       "      <td>82.4</td>\n",
       "      <td>9253 Richardson Road, Matawan, NJ 07747</td>\n",
       "    </tr>\n",
       "    <tr>\n",
       "      <th>1</th>\n",
       "      <td>Kadeem</td>\n",
       "      <td>Morrison</td>\n",
       "      <td>male</td>\n",
       "      <td>18.0</td>\n",
       "      <td>4.0</td>\n",
       "      <td>4.0</td>\n",
       "      <td>78.2</td>\n",
       "      <td>33 Spring Dr., Taunton, MA 02780</td>\n",
       "    </tr>\n",
       "    <tr>\n",
       "      <th>2</th>\n",
       "      <td>Nash</td>\n",
       "      <td>Powell</td>\n",
       "      <td>male</td>\n",
       "      <td>18.0</td>\n",
       "      <td>5.0</td>\n",
       "      <td>9.0</td>\n",
       "      <td>79.3</td>\n",
       "      <td>41 Hill Avenue, Mentor, OH 44060</td>\n",
       "    </tr>\n",
       "    <tr>\n",
       "      <th>3</th>\n",
       "      <td>Noelani</td>\n",
       "      <td>Wagner</td>\n",
       "      <td>female</td>\n",
       "      <td>14.0</td>\n",
       "      <td>2.0</td>\n",
       "      <td>7.0</td>\n",
       "      <td>83.2</td>\n",
       "      <td>8839 Marshall St., Miami, FL 33125</td>\n",
       "    </tr>\n",
       "    <tr>\n",
       "      <th>4</th>\n",
       "      <td>Noelani</td>\n",
       "      <td>Cherry</td>\n",
       "      <td>female</td>\n",
       "      <td>18.0</td>\n",
       "      <td>4.0</td>\n",
       "      <td>15.0</td>\n",
       "      <td>87.4</td>\n",
       "      <td>8304 Charles Rd., Lewis Center, OH 43035</td>\n",
       "    </tr>\n",
       "    <tr>\n",
       "      <th>...</th>\n",
       "      <td>...</td>\n",
       "      <td>...</td>\n",
       "      <td>...</td>\n",
       "      <td>...</td>\n",
       "      <td>...</td>\n",
       "      <td>...</td>\n",
       "      <td>...</td>\n",
       "      <td>...</td>\n",
       "    </tr>\n",
       "    <tr>\n",
       "      <th>1997</th>\n",
       "      <td>Cody</td>\n",
       "      <td>Shepherd</td>\n",
       "      <td>male</td>\n",
       "      <td>19.0</td>\n",
       "      <td>1.0</td>\n",
       "      <td>8.0</td>\n",
       "      <td>80.1</td>\n",
       "      <td>982 West Street, Alexandria, VA 22304</td>\n",
       "    </tr>\n",
       "    <tr>\n",
       "      <th>1998</th>\n",
       "      <td>Geraldine</td>\n",
       "      <td>Peterson</td>\n",
       "      <td>female</td>\n",
       "      <td>16.0</td>\n",
       "      <td>4.0</td>\n",
       "      <td>18.0</td>\n",
       "      <td>100.0</td>\n",
       "      <td>78 Morris Street, East Northport, NY 11731</td>\n",
       "    </tr>\n",
       "    <tr>\n",
       "      <th>1999</th>\n",
       "      <td>Mercedes</td>\n",
       "      <td>Leon</td>\n",
       "      <td>female</td>\n",
       "      <td>18.0</td>\n",
       "      <td>3.0</td>\n",
       "      <td>14.0</td>\n",
       "      <td>84.9</td>\n",
       "      <td>30 Glenridge Rd., Bountiful, UT 84010</td>\n",
       "    </tr>\n",
       "    <tr>\n",
       "      <th>2000</th>\n",
       "      <td>Lucius</td>\n",
       "      <td>Rowland</td>\n",
       "      <td>male</td>\n",
       "      <td>16.0</td>\n",
       "      <td>1.0</td>\n",
       "      <td>7.0</td>\n",
       "      <td>69.1</td>\n",
       "      <td>342 West Meadowbrook Lane, Helena, MT 59601</td>\n",
       "    </tr>\n",
       "    <tr>\n",
       "      <th>2001</th>\n",
       "      <td>Linus</td>\n",
       "      <td>Morris</td>\n",
       "      <td>male</td>\n",
       "      <td>19.0</td>\n",
       "      <td>4.0</td>\n",
       "      <td>10.0</td>\n",
       "      <td>79.6</td>\n",
       "      <td>81 Homestead Drive, Voorhees, NJ 08043</td>\n",
       "    </tr>\n",
       "  </tbody>\n",
       "</table>\n",
       "<p>2002 rows × 8 columns</p>\n",
       "</div>"
      ],
      "text/plain": [
       "          fname     lname  gender   age  exercise  hours  grade  \\\n",
       "0        Marcia      Pugh  female  17.0       3.0   10.0   82.4   \n",
       "1        Kadeem  Morrison    male  18.0       4.0    4.0   78.2   \n",
       "2          Nash    Powell    male  18.0       5.0    9.0   79.3   \n",
       "3       Noelani    Wagner  female  14.0       2.0    7.0   83.2   \n",
       "4       Noelani    Cherry  female  18.0       4.0   15.0   87.4   \n",
       "...         ...       ...     ...   ...       ...    ...    ...   \n",
       "1997       Cody  Shepherd    male  19.0       1.0    8.0   80.1   \n",
       "1998  Geraldine  Peterson  female  16.0       4.0   18.0  100.0   \n",
       "1999   Mercedes      Leon  female  18.0       3.0   14.0   84.9   \n",
       "2000     Lucius   Rowland    male  16.0       1.0    7.0   69.1   \n",
       "2001      Linus    Morris    male  19.0       4.0   10.0   79.6   \n",
       "\n",
       "                                          address  \n",
       "0         9253 Richardson Road, Matawan, NJ 07747  \n",
       "1                33 Spring Dr., Taunton, MA 02780  \n",
       "2                41 Hill Avenue, Mentor, OH 44060  \n",
       "3              8839 Marshall St., Miami, FL 33125  \n",
       "4        8304 Charles Rd., Lewis Center, OH 43035  \n",
       "...                                           ...  \n",
       "1997        982 West Street, Alexandria, VA 22304  \n",
       "1998   78 Morris Street, East Northport, NY 11731  \n",
       "1999        30 Glenridge Rd., Bountiful, UT 84010  \n",
       "2000  342 West Meadowbrook Lane, Helena, MT 59601  \n",
       "2001       81 Homestead Drive, Voorhees, NJ 08043  \n",
       "\n",
       "[2002 rows x 8 columns]"
      ]
     },
     "execution_count": 11,
     "metadata": {},
     "output_type": "execute_result"
    }
   ],
   "source": [
    "# Eliminar colunas completamente vazias\n",
    "\n",
    "df.dropna(axis = 1, \n",
    "          how = 'all')"
   ]
  },
  {
   "attachments": {},
   "cell_type": "markdown",
   "metadata": {},
   "source": [
    "Para substituir todos os valores vazios por zero, consulte a Listagem 3-7."
   ]
  },
  {
   "cell_type": "code",
   "execution_count": 12,
   "metadata": {},
   "outputs": [
    {
     "data": {
      "text/html": [
       "<div>\n",
       "<style scoped>\n",
       "    .dataframe tbody tr th:only-of-type {\n",
       "        vertical-align: middle;\n",
       "    }\n",
       "\n",
       "    .dataframe tbody tr th {\n",
       "        vertical-align: top;\n",
       "    }\n",
       "\n",
       "    .dataframe thead th {\n",
       "        text-align: right;\n",
       "    }\n",
       "</style>\n",
       "<table border=\"1\" class=\"dataframe\">\n",
       "  <thead>\n",
       "    <tr style=\"text-align: right;\">\n",
       "      <th></th>\n",
       "      <th>fname</th>\n",
       "      <th>lname</th>\n",
       "      <th>gender</th>\n",
       "      <th>age</th>\n",
       "      <th>exercise</th>\n",
       "      <th>hours</th>\n",
       "      <th>grade</th>\n",
       "      <th>address</th>\n",
       "      <th>newcol</th>\n",
       "    </tr>\n",
       "  </thead>\n",
       "  <tbody>\n",
       "    <tr>\n",
       "      <th>0</th>\n",
       "      <td>Marcia</td>\n",
       "      <td>Pugh</td>\n",
       "      <td>female</td>\n",
       "      <td>17.0</td>\n",
       "      <td>3.0</td>\n",
       "      <td>10.0</td>\n",
       "      <td>82.4</td>\n",
       "      <td>9253 Richardson Road, Matawan, NJ 07747</td>\n",
       "      <td>0.0</td>\n",
       "    </tr>\n",
       "    <tr>\n",
       "      <th>1</th>\n",
       "      <td>Kadeem</td>\n",
       "      <td>Morrison</td>\n",
       "      <td>male</td>\n",
       "      <td>18.0</td>\n",
       "      <td>4.0</td>\n",
       "      <td>4.0</td>\n",
       "      <td>78.2</td>\n",
       "      <td>33 Spring Dr., Taunton, MA 02780</td>\n",
       "      <td>0.0</td>\n",
       "    </tr>\n",
       "    <tr>\n",
       "      <th>2</th>\n",
       "      <td>Nash</td>\n",
       "      <td>Powell</td>\n",
       "      <td>male</td>\n",
       "      <td>18.0</td>\n",
       "      <td>5.0</td>\n",
       "      <td>9.0</td>\n",
       "      <td>79.3</td>\n",
       "      <td>41 Hill Avenue, Mentor, OH 44060</td>\n",
       "      <td>0.0</td>\n",
       "    </tr>\n",
       "    <tr>\n",
       "      <th>3</th>\n",
       "      <td>Noelani</td>\n",
       "      <td>Wagner</td>\n",
       "      <td>female</td>\n",
       "      <td>14.0</td>\n",
       "      <td>2.0</td>\n",
       "      <td>7.0</td>\n",
       "      <td>83.2</td>\n",
       "      <td>8839 Marshall St., Miami, FL 33125</td>\n",
       "      <td>0.0</td>\n",
       "    </tr>\n",
       "    <tr>\n",
       "      <th>4</th>\n",
       "      <td>Noelani</td>\n",
       "      <td>Cherry</td>\n",
       "      <td>female</td>\n",
       "      <td>18.0</td>\n",
       "      <td>4.0</td>\n",
       "      <td>15.0</td>\n",
       "      <td>87.4</td>\n",
       "      <td>8304 Charles Rd., Lewis Center, OH 43035</td>\n",
       "      <td>0.0</td>\n",
       "    </tr>\n",
       "    <tr>\n",
       "      <th>...</th>\n",
       "      <td>...</td>\n",
       "      <td>...</td>\n",
       "      <td>...</td>\n",
       "      <td>...</td>\n",
       "      <td>...</td>\n",
       "      <td>...</td>\n",
       "      <td>...</td>\n",
       "      <td>...</td>\n",
       "      <td>...</td>\n",
       "    </tr>\n",
       "    <tr>\n",
       "      <th>1997</th>\n",
       "      <td>Cody</td>\n",
       "      <td>Shepherd</td>\n",
       "      <td>male</td>\n",
       "      <td>19.0</td>\n",
       "      <td>1.0</td>\n",
       "      <td>8.0</td>\n",
       "      <td>80.1</td>\n",
       "      <td>982 West Street, Alexandria, VA 22304</td>\n",
       "      <td>0.0</td>\n",
       "    </tr>\n",
       "    <tr>\n",
       "      <th>1998</th>\n",
       "      <td>Geraldine</td>\n",
       "      <td>Peterson</td>\n",
       "      <td>female</td>\n",
       "      <td>16.0</td>\n",
       "      <td>4.0</td>\n",
       "      <td>18.0</td>\n",
       "      <td>100.0</td>\n",
       "      <td>78 Morris Street, East Northport, NY 11731</td>\n",
       "      <td>0.0</td>\n",
       "    </tr>\n",
       "    <tr>\n",
       "      <th>1999</th>\n",
       "      <td>Mercedes</td>\n",
       "      <td>Leon</td>\n",
       "      <td>female</td>\n",
       "      <td>18.0</td>\n",
       "      <td>3.0</td>\n",
       "      <td>14.0</td>\n",
       "      <td>84.9</td>\n",
       "      <td>30 Glenridge Rd., Bountiful, UT 84010</td>\n",
       "      <td>0.0</td>\n",
       "    </tr>\n",
       "    <tr>\n",
       "      <th>2000</th>\n",
       "      <td>Lucius</td>\n",
       "      <td>Rowland</td>\n",
       "      <td>male</td>\n",
       "      <td>16.0</td>\n",
       "      <td>1.0</td>\n",
       "      <td>7.0</td>\n",
       "      <td>69.1</td>\n",
       "      <td>342 West Meadowbrook Lane, Helena, MT 59601</td>\n",
       "      <td>0.0</td>\n",
       "    </tr>\n",
       "    <tr>\n",
       "      <th>2001</th>\n",
       "      <td>Linus</td>\n",
       "      <td>Morris</td>\n",
       "      <td>male</td>\n",
       "      <td>19.0</td>\n",
       "      <td>4.0</td>\n",
       "      <td>10.0</td>\n",
       "      <td>79.6</td>\n",
       "      <td>81 Homestead Drive, Voorhees, NJ 08043</td>\n",
       "      <td>0.0</td>\n",
       "    </tr>\n",
       "  </tbody>\n",
       "</table>\n",
       "<p>2002 rows × 9 columns</p>\n",
       "</div>"
      ],
      "text/plain": [
       "          fname     lname  gender   age  exercise  hours  grade  \\\n",
       "0        Marcia      Pugh  female  17.0       3.0   10.0   82.4   \n",
       "1        Kadeem  Morrison    male  18.0       4.0    4.0   78.2   \n",
       "2          Nash    Powell    male  18.0       5.0    9.0   79.3   \n",
       "3       Noelani    Wagner  female  14.0       2.0    7.0   83.2   \n",
       "4       Noelani    Cherry  female  18.0       4.0   15.0   87.4   \n",
       "...         ...       ...     ...   ...       ...    ...    ...   \n",
       "1997       Cody  Shepherd    male  19.0       1.0    8.0   80.1   \n",
       "1998  Geraldine  Peterson  female  16.0       4.0   18.0  100.0   \n",
       "1999   Mercedes      Leon  female  18.0       3.0   14.0   84.9   \n",
       "2000     Lucius   Rowland    male  16.0       1.0    7.0   69.1   \n",
       "2001      Linus    Morris    male  19.0       4.0   10.0   79.6   \n",
       "\n",
       "                                          address  newcol  \n",
       "0         9253 Richardson Road, Matawan, NJ 07747     0.0  \n",
       "1                33 Spring Dr., Taunton, MA 02780     0.0  \n",
       "2                41 Hill Avenue, Mentor, OH 44060     0.0  \n",
       "3              8839 Marshall St., Miami, FL 33125     0.0  \n",
       "4        8304 Charles Rd., Lewis Center, OH 43035     0.0  \n",
       "...                                           ...     ...  \n",
       "1997        982 West Street, Alexandria, VA 22304     0.0  \n",
       "1998   78 Morris Street, East Northport, NY 11731     0.0  \n",
       "1999        30 Glenridge Rd., Bountiful, UT 84010     0.0  \n",
       "2000  342 West Meadowbrook Lane, Helena, MT 59601     0.0  \n",
       "2001       81 Homestead Drive, Voorhees, NJ 08043     0.0  \n",
       "\n",
       "[2002 rows x 9 columns]"
      ]
     },
     "execution_count": 12,
     "metadata": {},
     "output_type": "execute_result"
    }
   ],
   "source": [
    "# Substituir células vazias por 0\n",
    "\n",
    "df.fillna(0)"
   ]
  },
  {
   "attachments": {},
   "cell_type": "markdown",
   "metadata": {},
   "source": [
    "Para preencher as notas que faltam com o valor médio da nota, consulte a Listagem 3-8."
   ]
  },
  {
   "cell_type": "code",
   "execution_count": 13,
   "metadata": {},
   "outputs": [],
   "source": [
    "# Substitua as células vazias pela média da coluna\n",
    "\n",
    "df[\"grade\"].fillna(df[\"grade\"].mean(), \n",
    "                   inplace = True)"
   ]
  },
  {
   "attachments": {},
   "cell_type": "markdown",
   "metadata": {},
   "source": [
    "Observe que inplace=True significa que as alterações são salvas no dataframe\n",
    "imediatamente."
   ]
  },
  {
   "attachments": {},
   "cell_type": "markdown",
   "metadata": {},
   "source": [
    "Para preencher as notas que faltam com o valor médio da nota de cada gênero, consulte\n",
    "Listagem 3-9."
   ]
  },
  {
   "cell_type": "code",
   "execution_count": 14,
   "metadata": {},
   "outputs": [],
   "source": [
    "# É complicado\n",
    "\n",
    "df[\"grade\"].fillna(df.groupby(\"gender\")\n",
    "                   [\"grade\"].transform(\"mean\"), inplace=True)    "
   ]
  },
  {
   "attachments": {},
   "cell_type": "markdown",
   "metadata": {},
   "source": [
    "Também podemos selecionar algumas linhas, mas ignorar aquelas com pontos de\n",
    "dados ausentes. Para selecionar as linhas de df em que idade não é NaN e sexo não é\n",
    "NaN, consulte a Listagem 3-10."
   ]
  },
  {
   "cell_type": "code",
   "execution_count": 16,
   "metadata": {},
   "outputs": [
    {
     "data": {
      "text/html": [
       "<div>\n",
       "<style scoped>\n",
       "    .dataframe tbody tr th:only-of-type {\n",
       "        vertical-align: middle;\n",
       "    }\n",
       "\n",
       "    .dataframe tbody tr th {\n",
       "        vertical-align: top;\n",
       "    }\n",
       "\n",
       "    .dataframe thead th {\n",
       "        text-align: right;\n",
       "    }\n",
       "</style>\n",
       "<table border=\"1\" class=\"dataframe\">\n",
       "  <thead>\n",
       "    <tr style=\"text-align: right;\">\n",
       "      <th></th>\n",
       "      <th>fname</th>\n",
       "      <th>lname</th>\n",
       "      <th>gender</th>\n",
       "      <th>age</th>\n",
       "      <th>exercise</th>\n",
       "      <th>hours</th>\n",
       "      <th>grade</th>\n",
       "      <th>address</th>\n",
       "      <th>newcol</th>\n",
       "    </tr>\n",
       "  </thead>\n",
       "  <tbody>\n",
       "    <tr>\n",
       "      <th>0</th>\n",
       "      <td>Marcia</td>\n",
       "      <td>Pugh</td>\n",
       "      <td>female</td>\n",
       "      <td>17.0</td>\n",
       "      <td>3.0</td>\n",
       "      <td>10.0</td>\n",
       "      <td>82.4</td>\n",
       "      <td>9253 Richardson Road, Matawan, NJ 07747</td>\n",
       "      <td>NaN</td>\n",
       "    </tr>\n",
       "    <tr>\n",
       "      <th>1</th>\n",
       "      <td>Kadeem</td>\n",
       "      <td>Morrison</td>\n",
       "      <td>male</td>\n",
       "      <td>18.0</td>\n",
       "      <td>4.0</td>\n",
       "      <td>4.0</td>\n",
       "      <td>78.2</td>\n",
       "      <td>33 Spring Dr., Taunton, MA 02780</td>\n",
       "      <td>NaN</td>\n",
       "    </tr>\n",
       "    <tr>\n",
       "      <th>2</th>\n",
       "      <td>Nash</td>\n",
       "      <td>Powell</td>\n",
       "      <td>male</td>\n",
       "      <td>18.0</td>\n",
       "      <td>5.0</td>\n",
       "      <td>9.0</td>\n",
       "      <td>79.3</td>\n",
       "      <td>41 Hill Avenue, Mentor, OH 44060</td>\n",
       "      <td>NaN</td>\n",
       "    </tr>\n",
       "    <tr>\n",
       "      <th>3</th>\n",
       "      <td>Noelani</td>\n",
       "      <td>Wagner</td>\n",
       "      <td>female</td>\n",
       "      <td>14.0</td>\n",
       "      <td>2.0</td>\n",
       "      <td>7.0</td>\n",
       "      <td>83.2</td>\n",
       "      <td>8839 Marshall St., Miami, FL 33125</td>\n",
       "      <td>NaN</td>\n",
       "    </tr>\n",
       "    <tr>\n",
       "      <th>4</th>\n",
       "      <td>Noelani</td>\n",
       "      <td>Cherry</td>\n",
       "      <td>female</td>\n",
       "      <td>18.0</td>\n",
       "      <td>4.0</td>\n",
       "      <td>15.0</td>\n",
       "      <td>87.4</td>\n",
       "      <td>8304 Charles Rd., Lewis Center, OH 43035</td>\n",
       "      <td>NaN</td>\n",
       "    </tr>\n",
       "    <tr>\n",
       "      <th>...</th>\n",
       "      <td>...</td>\n",
       "      <td>...</td>\n",
       "      <td>...</td>\n",
       "      <td>...</td>\n",
       "      <td>...</td>\n",
       "      <td>...</td>\n",
       "      <td>...</td>\n",
       "      <td>...</td>\n",
       "      <td>...</td>\n",
       "    </tr>\n",
       "    <tr>\n",
       "      <th>1997</th>\n",
       "      <td>Cody</td>\n",
       "      <td>Shepherd</td>\n",
       "      <td>male</td>\n",
       "      <td>19.0</td>\n",
       "      <td>1.0</td>\n",
       "      <td>8.0</td>\n",
       "      <td>80.1</td>\n",
       "      <td>982 West Street, Alexandria, VA 22304</td>\n",
       "      <td>NaN</td>\n",
       "    </tr>\n",
       "    <tr>\n",
       "      <th>1998</th>\n",
       "      <td>Geraldine</td>\n",
       "      <td>Peterson</td>\n",
       "      <td>female</td>\n",
       "      <td>16.0</td>\n",
       "      <td>4.0</td>\n",
       "      <td>18.0</td>\n",
       "      <td>100.0</td>\n",
       "      <td>78 Morris Street, East Northport, NY 11731</td>\n",
       "      <td>NaN</td>\n",
       "    </tr>\n",
       "    <tr>\n",
       "      <th>1999</th>\n",
       "      <td>Mercedes</td>\n",
       "      <td>Leon</td>\n",
       "      <td>female</td>\n",
       "      <td>18.0</td>\n",
       "      <td>3.0</td>\n",
       "      <td>14.0</td>\n",
       "      <td>84.9</td>\n",
       "      <td>30 Glenridge Rd., Bountiful, UT 84010</td>\n",
       "      <td>NaN</td>\n",
       "    </tr>\n",
       "    <tr>\n",
       "      <th>2000</th>\n",
       "      <td>Lucius</td>\n",
       "      <td>Rowland</td>\n",
       "      <td>male</td>\n",
       "      <td>16.0</td>\n",
       "      <td>1.0</td>\n",
       "      <td>7.0</td>\n",
       "      <td>69.1</td>\n",
       "      <td>342 West Meadowbrook Lane, Helena, MT 59601</td>\n",
       "      <td>NaN</td>\n",
       "    </tr>\n",
       "    <tr>\n",
       "      <th>2001</th>\n",
       "      <td>Linus</td>\n",
       "      <td>Morris</td>\n",
       "      <td>male</td>\n",
       "      <td>19.0</td>\n",
       "      <td>4.0</td>\n",
       "      <td>10.0</td>\n",
       "      <td>79.6</td>\n",
       "      <td>81 Homestead Drive, Voorhees, NJ 08043</td>\n",
       "      <td>NaN</td>\n",
       "    </tr>\n",
       "  </tbody>\n",
       "</table>\n",
       "<p>1993 rows × 9 columns</p>\n",
       "</div>"
      ],
      "text/plain": [
       "          fname     lname  gender   age  exercise  hours  grade  \\\n",
       "0        Marcia      Pugh  female  17.0       3.0   10.0   82.4   \n",
       "1        Kadeem  Morrison    male  18.0       4.0    4.0   78.2   \n",
       "2          Nash    Powell    male  18.0       5.0    9.0   79.3   \n",
       "3       Noelani    Wagner  female  14.0       2.0    7.0   83.2   \n",
       "4       Noelani    Cherry  female  18.0       4.0   15.0   87.4   \n",
       "...         ...       ...     ...   ...       ...    ...    ...   \n",
       "1997       Cody  Shepherd    male  19.0       1.0    8.0   80.1   \n",
       "1998  Geraldine  Peterson  female  16.0       4.0   18.0  100.0   \n",
       "1999   Mercedes      Leon  female  18.0       3.0   14.0   84.9   \n",
       "2000     Lucius   Rowland    male  16.0       1.0    7.0   69.1   \n",
       "2001      Linus    Morris    male  19.0       4.0   10.0   79.6   \n",
       "\n",
       "                                          address  newcol  \n",
       "0         9253 Richardson Road, Matawan, NJ 07747     NaN  \n",
       "1                33 Spring Dr., Taunton, MA 02780     NaN  \n",
       "2                41 Hill Avenue, Mentor, OH 44060     NaN  \n",
       "3              8839 Marshall St., Miami, FL 33125     NaN  \n",
       "4        8304 Charles Rd., Lewis Center, OH 43035     NaN  \n",
       "...                                           ...     ...  \n",
       "1997        982 West Street, Alexandria, VA 22304     NaN  \n",
       "1998   78 Morris Street, East Northport, NY 11731     NaN  \n",
       "1999        30 Glenridge Rd., Bountiful, UT 84010     NaN  \n",
       "2000  342 West Meadowbrook Lane, Helena, MT 59601     NaN  \n",
       "2001       81 Homestead Drive, Voorhees, NJ 08043     NaN  \n",
       "\n",
       "[1993 rows x 9 columns]"
      ]
     },
     "execution_count": 16,
     "metadata": {},
     "output_type": "execute_result"
    }
   ],
   "source": [
    "# Selecionando linhas sem idade ou sexo ausente\n",
    "\n",
    "df[df['age'].notnull() & df['gender'].notnull()]"
   ]
  },
  {
   "attachments": {},
   "cell_type": "markdown",
   "metadata": {},
   "source": [
    "Carregue o conjunto de dados `datasets/missinggrade.csv`. A sua missão, caso aceite, é deletar linhas com notas faltantes e substituir os valores faltantes em horas de exercício pelo valor médio daquele gênero."
   ]
  },
  {
   "attachments": {},
   "cell_type": "markdown",
   "metadata": {},
   "source": [
    "#### Filtrando Valores Inadequados"
   ]
  },
  {
   "attachments": {},
   "cell_type": "markdown",
   "metadata": {},
   "source": [
    "Às vezes, se você estiver trabalhando com dados que não coletou, precisará se preocupar se os dados são precisos. Caramba, às vezes você precisa se preocupar com isso, mesmo que tenha coletado você mesmo! Pode ser difícil verificar a veracidade de cada ponto de dados, mas é bastante fácil verificar se os dados são apropriados."
   ]
  },
  {
   "attachments": {},
   "cell_type": "markdown",
   "metadata": {},
   "source": [
    "A biblioteca pandas do Python tem a capacidade de filtrar os valores incorretos"
   ]
  },
  {
   "cell_type": "code",
   "execution_count": null,
   "metadata": {},
   "outputs": [],
   "source": [
    "# 11. Criando conjunto de dados\n",
    "\n",
    "nomes = ['Bob','Jéssica','Maria','João','Mel'] \n",
    "notas = [76,-2,77,78,101]\n",
    "GradeList = zip(nomes,notas) \n",
    "df = pd.DataFrame(data = GradeList, columns = ['Nomes', 'Notas'])\n",
    "df"
   ]
  },
  {
   "attachments": {},
   "cell_type": "markdown",
   "metadata": {},
   "source": [
    "Para eliminar todas as linhas em que as notas são muito altas, consulte a Listagem"
   ]
  },
  {
   "cell_type": "code",
   "execution_count": null,
   "metadata": {},
   "outputs": [],
   "source": [
    "# Filtrando Notas Impossíveis\n",
    "\n",
    "df.loc[df['Notas'] <= 100]"
   ]
  },
  {
   "attachments": {},
   "cell_type": "markdown",
   "metadata": {},
   "source": [
    "Para alterar os valores fora do limite para o máximo ou mínimo valor permitido, podemos usar o código visto na Listagem 3"
   ]
  },
  {
   "cell_type": "code",
   "execution_count": null,
   "metadata": {},
   "outputs": [],
   "source": [
    "# Mudando Notas Impossíveis\n",
    "\n",
    "df.loc[(df['Notas'] >= 100,'Notas')] = 100"
   ]
  },
  {
   "attachments": {},
   "cell_type": "markdown",
   "metadata": {},
   "source": [
    "Usando o conjunto de dados desta seção, você pode substituir todas as notas abaixo de zero por uma nota de zero?"
   ]
  },
  {
   "attachments": {},
   "cell_type": "markdown",
   "metadata": {},
   "source": [
    "#### Encontrando Linhas Duplicadas"
   ]
  },
  {
   "attachments": {},
   "cell_type": "markdown",
   "metadata": {},
   "source": [
    "Outra coisa com a qual você precisa se preocupar se estiver usando os dados de outra pessoa é se algum dado está duplicado. (Os mesmos dados foram relatados duas vezes, ou gravados duas vezes, ou apenas copiados e colados?) Caramba, às vezes você precisa se preocupar com isso, mesmo que você mesmo os tenha coletado! Pode ser difícil verificar a veracidade de cada ponto de dados, mas é muito fácil verificar se os dados estão duplicados."
   ]
  },
  {
   "attachments": {},
   "cell_type": "markdown",
   "metadata": {},
   "source": [
    "biblioteca pandas do Python tem uma função para encontrar não apenas linhas duplicadas, mas também linhas únicas (Listagem 3-14)."
   ]
  },
  {
   "cell_type": "code",
   "execution_count": null,
   "metadata": {},
   "outputs": [],
   "source": [
    "# Criando conjunto de dados com duplicatas\n",
    "\n",
    "names = ['Jan', 'John', 'Bob', 'Jan', \n",
    "         'Mary', 'Jon', 'Mel', 'Mel'] \n",
    "\n",
    "notas = [95, 78, 76, 95, 77, 78, 99, 100]\n",
    "GradeList = zip(nomes,notas) \n",
    "df =pd.DataFrame(data = GradeList, columns=['Nomes', 'Notas'])\n",
    "\n",
    "df"
   ]
  },
  {
   "attachments": {},
   "cell_type": "markdown",
   "metadata": {},
   "source": [
    "Para indicar as linhas duplicadas, podemos simplesmente executar o código visto na Listagem 3-1"
   ]
  },
  {
   "cell_type": "code",
   "execution_count": null,
   "metadata": {},
   "outputs": [],
   "source": [
    "# Exibindo apenas duplicatas no dataframe\n",
    " \n",
    "df.duplicated()"
   ]
  },
  {
   "attachments": {},
   "cell_type": "markdown",
   "metadata": {},
   "source": [
    "Para mostrar o conjunto de dados sem duplicatas, podemos executar o código visto na Listagem"
   ]
  },
  {
   "cell_type": "code",
   "execution_count": null,
   "metadata": {},
   "outputs": [],
   "source": [
    "# Exibindo conjunto de dados sem duplicatas\n",
    "\n",
    "df.drop_duplicates()"
   ]
  },
  {
   "attachments": {},
   "cell_type": "markdown",
   "metadata": {},
   "source": [
    "Você pode estar se perguntando: \"E se a linha inteira não estiver duplicada, mas eu ainda souber que é uma duplicata?\" Isso pode acontecer se alguém fizer sua pesquisa ou refazer um exame novamente, então o nome é o mesmo, mas a observação é Nesse caso, onde sabemos que um nome duplicado significa uma entrada duplicada, podemos usar o código visto na Listagem 3-17."
   ]
  },
  {
   "cell_type": "code",
   "execution_count": null,
   "metadata": {},
   "outputs": [],
   "source": [
    "# Eliminar linhas com nomes duplicados, mantendo a última observação\n",
    "\n",
    "df.drop_duplicates(['Nomes'], mantenha='último')"
   ]
  },
  {
   "attachments": {},
   "cell_type": "markdown",
   "metadata": {},
   "source": [
    "Carregue o conjunto de dados datasets/dupedata.csv. Achamos que pessoas com o mesmo endereço são duplicatas. Você pode descartar as linhas duplicadas enquanto mantém a primeira?"
   ]
  },
  {
   "attachments": {},
   "cell_type": "markdown",
   "metadata": {},
   "source": [
    "#### Removendo a pontuação do conteúdo da coluna"
   ]
  },
  {
   "attachments": {},
   "cell_type": "markdown",
   "metadata": {},
   "source": [
    "Seja em um número de telefone ou em um endereço, muitas vezes você encontrará pontuação indesejada em seus dados. Vamos carregar alguns dados para ver como lidar com isso (Listagem 3-18)."
   ]
  },
  {
   "cell_type": "code",
   "execution_count": null,
   "metadata": {},
   "outputs": [],
   "source": [
    "# Carregando Dataframe com dados do arquivo CSV\n",
    "\n",
    "caminho = \"datasets/gradedata.csv\"\n",
    "## Para adicionar cabeçalhos enquanto carregamos os dados...\n",
    "df = pd.read_csv(caminho) \n",
    "df.head()"
   ]
  },
  {
   "attachments": {},
   "cell_type": "markdown",
   "metadata": {},
   "source": [
    "Para remover a pontuação indesejada, criamos uma função que retorna todos os caracteres que não são pontuação e a eles aplicamos essa função em nosso dataframe (Listagem 3-19)."
   ]
  },
  {
   "cell_type": "code",
   "execution_count": null,
   "metadata": {},
   "outputs": [],
   "source": [
    "# Removendo a pontuação da coluna de endereço\n",
    "\n",
    "import string\n",
    "exclude = set(string.punctuation) \n",
    "def remove_punctuation(x): \n",
    "    try: \n",
    "        x =''.join(ch for ch in x if ch not in exclude) \n",
    "    \n",
    "    except:\n",
    "        pass\n",
    "    \n",
    "    return x\n",
    "\n",
    "df.address = df.address.apply(remove_punctuation) df"
   ]
  },
  {
   "attachments": {},
   "cell_type": "markdown",
   "metadata": {},
   "source": [
    "#### Removendo espaços em branco do conteúdo da coluna"
   ]
  },
  {
   "cell_type": "code",
   "execution_count": null,
   "metadata": {},
   "outputs": [],
   "source": [
    "# Carregando Dataframe com dados do arquivo CSV\n",
    "\n",
    "caminho = \"datasets/gradedata.csv\"\n",
    "## Para adicionar cabeçalhos enquanto carregamos os dados...\n",
    "df = pd.read_csv(caminho)\n",
    "df.head()"
   ]
  },
  {
   "attachments": {},
   "cell_type": "markdown",
   "metadata": {},
   "source": [
    "Para remover o espaço em branco, criamos uma função que retorna todos os caracteres que não são de pontuação e aplicamos essa função ao nosso dataframe (Listagem 3-21)."
   ]
  },
  {
   "cell_type": "code",
   "execution_count": null,
   "metadata": {},
   "outputs": [],
   "source": [
    "# Removendo espaços em branco da coluna de endereço\n",
    "def remove_whitespace(x):\n",
    "    try: \n",
    "        x = ''.join(x.split()) \n",
    "    \n",
    "    except:\n",
    "        pass\n",
    "    \n",
    "    return x\n",
    "\n",
    "df.address = df.address.apply(remove_whitespace) \n",
    "df"
   ]
  },
  {
   "attachments": {},
   "cell_type": "markdown",
   "metadata": {},
   "source": [
    "#### Datas padronizadas"
   ]
  },
  {
   "attachments": {},
   "cell_type": "markdown",
   "metadata": {},
   "source": [
    "Um dos problemas com a consolidação de dados de diferentes fontes é que diferentes pessoas e diferentes sistemas podem registrar datas de forma diferente. Talvez eles usem 01/03/1980 ou 01/03/80 ou até mesmo 1980/01/03."
   ]
  },
  {
   "attachments": {},
   "cell_type": "markdown",
   "metadata": {},
   "source": [
    "Mesmo que todas se refiram a 3 de janeiro de 1980, as ferramentas de análise podem não reconhecê-las todas como datas se você estiver alternando entre os diferentes formatos na mesma coluna."
   ]
  },
  {
   "cell_type": "code",
   "execution_count": 2,
   "metadata": {},
   "outputs": [
    {
     "ename": "NameError",
     "evalue": "name 'pd' is not defined",
     "output_type": "error",
     "traceback": [
      "\u001b[1;31m---------------------------------------------------------------------------\u001b[0m",
      "\u001b[1;31mNameError\u001b[0m                                 Traceback (most recent call last)",
      "\u001b[1;32md:\\GIT-repository\\github-data-analysis-python-IV\\data-analysis-python-IV\\02-Preparando_dados.ipynb Cell 73\u001b[0m in \u001b[0;36m<cell line: 14>\u001b[1;34m()\u001b[0m\n\u001b[0;32m     <a href='vscode-notebook-cell:/d%3A/GIT-repository/github-data-analysis-python-IV/data-analysis-python-IV/02-Preparando_dados.ipynb#Y140sZmlsZQ%3D%3D?line=10'>11</a>\u001b[0m GradeList \u001b[39m=\u001b[39m \u001b[39mzip\u001b[39m(nomes, grades, bsdegrees, msdegrees, phddegrees, bdates)\n\u001b[0;32m     <a href='vscode-notebook-cell:/d%3A/GIT-repository/github-data-analysis-python-IV/data-analysis-python-IV/02-Preparando_dados.ipynb#Y140sZmlsZQ%3D%3D?line=12'>13</a>\u001b[0m colunas \u001b[39m=\u001b[39m [\u001b[39m'\u001b[39m\u001b[39mNames\u001b[39m\u001b[39m'\u001b[39m, \u001b[39m'\u001b[39m\u001b[39mGrades\u001b[39m\u001b[39m'\u001b[39m, \u001b[39m'\u001b[39m\u001b[39mBS\u001b[39m\u001b[39m'\u001b[39m, \u001b[39m'\u001b[39m\u001b[39mMS\u001b[39m\u001b[39m'\u001b[39m, \u001b[39m'\u001b[39m\u001b[39mPhD\u001b[39m\u001b[39m'\u001b[39m, \u001b[39m\"\u001b[39m\u001b[39mbdates\u001b[39m\u001b[39m\"\u001b[39m]\n\u001b[1;32m---> <a href='vscode-notebook-cell:/d%3A/GIT-repository/github-data-analysis-python-IV/data-analysis-python-IV/02-Preparando_dados.ipynb#Y140sZmlsZQ%3D%3D?line=13'>14</a>\u001b[0m df \u001b[39m=\u001b[39m pd\u001b[39m.\u001b[39mDataFrame(data \u001b[39m=\u001b[39m GradeList, columns \u001b[39m=\u001b[39m colunas) \n\u001b[0;32m     <a href='vscode-notebook-cell:/d%3A/GIT-repository/github-data-analysis-python-IV/data-analysis-python-IV/02-Preparando_dados.ipynb#Y140sZmlsZQ%3D%3D?line=14'>15</a>\u001b[0m df\n",
      "\u001b[1;31mNameError\u001b[0m: name 'pd' is not defined"
     ]
    }
   ],
   "source": [
    "# Criando Dataframe com Diferentes Formatos de Data\n",
    "\n",
    "nomes = ['Bob', 'Jessica', 'Mary', 'John', 'Mel'] \n",
    "grades = [76, 95, 77, 78, 99] \n",
    "bsdegrees = [1, 1, 0, 0, 1]\n",
    "msdegrees = [2, 1, 0, 0, 0] \n",
    "phddegrees = [0, 1, 0, 0, 0]\n",
    "bdates = ['1/1/1945', '21/10/76', '03/03/90', \n",
    "          '30/04/1901', '1963-09-01']\n",
    "\n",
    "GradeList = zip(nomes, grades, bsdegrees, msdegrees, phddegrees, bdates)\n",
    "\n",
    "colunas = ['Names', 'Grades', 'BS', 'MS', 'PhD', \"bdates\"]\n",
    "df = pd.DataFrame(data = GradeList, columns = colunas) \n",
    "df"
   ]
  },
  {
   "attachments": {},
   "cell_type": "markdown",
   "metadata": {},
   "source": [
    "mostra uma função que padroniza as datas para um único formato."
   ]
  },
  {
   "cell_type": "code",
   "execution_count": null,
   "metadata": {},
   "outputs": [],
   "source": [
    "# Função para Padronizar Datas\n",
    "\n",
    "from time import strftime \n",
    "from datetime import datetime \n",
    "\n",
    "def standardize_date(thedate):\n",
    "    formatted_date = thedate = str(thedate) \n",
    "    if not thedate or thedate.lower() == \"missing\" or data == \"nan\":\n",
    "        formatted_date = \"FALTA\" \n",
    "    if the_date.lower().find('x') != -1: \n",
    "        formatted_date = \"Incompleto\" if the_date[0:2] == \"00\": \n",
    "            formatted_date = thedate.replace(\"00\" , \"19\") \n",
    "            try: \n",
    "                formatted_date = str(datetime.strptime( thedate,'%m/%d/%y').strftime('%m/%d/%y')) \n",
    "            except:\n",
    "                pass\n",
    "            \n",
    "        try: \n",
    "            formatted_date = str(datetime.strptime(adata, '%m/%d/%Y') .strftime('%m/%d/%y')) \n",
    "        \n",
    "        except:\n",
    "            pass\n",
    "    try:\n",
    "        if int(the_date[0:4]) < 1900:ou a data == \"nan\": data_formatada = \"Incompleto\"\n",
    "    \n",
    "        else:\n",
    "            formatted_date = str(datetime.strptime( thedate,'%Y-%m-%d').strftime('%m/%d/%y')) \n",
    "    \n",
    "    except:\n",
    "        pass\n",
    "     \n",
    "    return formatted_date"
   ]
  },
  {
   "attachments": {},
   "cell_type": "markdown",
   "metadata": {},
   "source": [
    "Agora que temos essa função, podemos aplicá-la à coluna de datas de nascimento em nosso dataframe"
   ]
  },
  {
   "cell_type": "code",
   "execution_count": null,
   "metadata": {},
   "outputs": [],
   "source": [
    "# Aplicando padronização de data à coluna de data de nascimento\n",
    "\n",
    "df.bdates = df.bdates.apply(standardize_date) \n",
    "df"
   ]
  },
  {
   "attachments": {},
   "cell_type": "markdown",
   "metadata": {},
   "source": [
    "#### Padronização de texto"
   ]
  },
  {
   "attachments": {},
   "cell_type": "markdown",
   "metadata": {},
   "source": [
    "Um dos problemas com a consolidação de dados de fontes diferentes é que pessoas diferentes e sistemas diferentes podem registrar determinados dados, como números de CPF, números de telefone e códigos postais de maneira diferente. Talvez eles usem hifens nesses números, ou talvez não. Esta seção aborda rapidamente como padronizar como esses tipos de dados são armazenados."
   ]
  },
  {
   "cell_type": "code",
   "execution_count": null,
   "metadata": {},
   "outputs": [],
   "source": [
    "# Criando Dataframe com SSNs\n",
    "\n",
    "nomes = ['Bob','Jessica','Mary','John','Mel'] \n",
    "grades = [76,95,77,78,99]\n",
    "bsdegrees = [1,1,0,0 ,1] \n",
    "msdegrees = [2,1,0,0,0]\n",
    "phddegrees = [0,1,0,0,0] \n",
    "ssns = ['867-53-0909', '333-22-4444', \n",
    "        '123 -12-1234', '777-93-9311',\n",
    "        '123-12-1423']\n",
    "\n",
    "GradeList = zip(nomes, notas, bsdegrees, msdegrees, phddegrees,ssns)\n",
    "column = ['Names','Grades','BS','MS','PhD',\"ssn\"] \n",
    "df = pd.DataFrame(data = GradeList, columns = colunas) \n",
    "df"
   ]
  },
  {
   "attachments": {},
   "cell_type": "markdown",
   "metadata": {},
   "source": [
    "O código na Listagem 3-26 cria uma função que padroniza os SSNs e o aplica à nossa coluna ssn."
   ]
  },
  {
   "cell_type": "code",
   "execution_count": null,
   "metadata": {},
   "outputs": [],
   "source": [
    "# Remova hífens de SSNs e adicione zeros à esquerda, se necessário\n",
    "def direita(s, quantidade):\n",
    "    return s[-quantidade]\n",
    "\n",
    "def padronizar_ssn(ssn): \n",
    "    try:\n",
    "        ssn = ssn.replace(\"-\",\"\") \n",
    "        ssn = \"\".join(ssn.split()) \n",
    "        if len (ssn)< 9 and ssn != 'Faltando': \n",
    "            ssn=\"000000000\" + ssn \n",
    "            ssn = direita(ssn,9)\n",
    "    except:\n",
    "        pass\n",
    "    \n",
    "    return ssn\n",
    "\n",
    "df.ssn = df.ssn.apply(padronizar_ssn) \n",
    "df\n"
   ]
  },
  {
   "attachments": {},
   "cell_type": "markdown",
   "metadata": {},
   "source": [
    "#### Criando Novas Variáveis"
   ]
  },
  {
   "cell_type": "markdown",
   "metadata": {},
   "source": [
    "Assim que os dados estiverem livres de erros, você precisará configurar as variáveis que responderão diretamente às suas perguntas. É um conjunto de dados raro em que cada pergunta que você precisa responder é respondida diretamente por uma variável. Portanto, pode ser necessário fazer muita recodificação e cálculo de variáveis para obter exatamente o conjunto de dados\n",
    "isto que você precisa.\n",
    "\n",
    "Os exemplos incluem o seguinte:\n",
    "\n",
    "• Criação de compartimentos (como conversão de notas numéricas em letras\n",
    "notas ou intervalos de datas em Q1, Q2, etc.)\n",
    "• Criar uma coluna que classifique os valores em outra\n",
    "coluna\n",
    "• Criação de uma coluna para indicar que outro valor foi\n",
    "atingiu um limite (aprovação ou reprovação, lista do reitor, etc.)\n",
    "• Convertendo categorias de strings em números (para regressão\n",
    "ou correlação)"
   ]
  },
  {
   "cell_type": "markdown",
   "metadata": {},
   "source": [
    "#### Dados de categorização\n",
    "\n",
    "Às vezes, você terá dados discretos que precisa agrupar em caixas.\n",
    "(Pense: convertendo notas numéricas em notas alfabéticas.) Nesta lição,\n",
    "aprenda sobre binning (Listagem 3-27)."
   ]
  },
  {
   "cell_type": "code",
   "execution_count": null,
   "metadata": {},
   "outputs": [],
   "source": [
    "# Listing 3-27. Loading the Dataset from CSV\n",
    "\n",
    "import pandas as pd\n",
    "Location = \"datasets/gradedata.csv\"\n",
    "df = pd.read_csv(Location)\n",
    "df.head()"
   ]
  },
  {
   "cell_type": "markdown",
   "metadata": {},
   "source": [
    "Agora que os dados foram carregados, precisamos definir os compartimentos e os nomes dos grupos (Listagem 3-28)."
   ]
  },
  {
   "cell_type": "code",
   "execution_count": null,
   "metadata": {},
   "outputs": [],
   "source": [
    "# Listing 3-28. Define Bins as 0 to 60, 60 to 70, 70 to 80, 80 to 90, 90 to 100\n",
    "# Create the bin dividers\n",
    "bins = [0, 60, 70, 80, 90, 100]\n",
    "# Create names for the four groups\n",
    "group_names = ['F', 'D', 'C', 'B', 'A']"
   ]
  },
  {
   "cell_type": "markdown",
   "metadata": {},
   "source": [
    "Observe que há mais um valor bin do que group_names.\n",
    "Isso ocorre porque é necessário haver um limite superior e inferior para cada compartimento."
   ]
  },
  {
   "cell_type": "code",
   "execution_count": null,
   "metadata": {},
   "outputs": [],
   "source": [
    "# Listing 3-29. Cut Grades\n",
    "df['lettergrade'] = pd.cut(df['grade'], bins,\n",
    "labels=group_names)\n",
    "df"
   ]
  },
  {
   "cell_type": "markdown",
   "metadata": {},
   "source": [
    "A Listagem 3-29 categoriza a nota da coluna com base na lista de compartimentos e rotula os valores usando a lista group_names. E se quisermos contar o número de observações para cada categoria, podemos fazer isso também (Listagem 3-30)."
   ]
  },
  {
   "cell_type": "code",
   "execution_count": null,
   "metadata": {},
   "outputs": [],
   "source": [
    "# Listing 3-30. Count Number of Observations\n",
    "pd.value_counts(df['lettergrade'])"
   ]
  },
  {
   "cell_type": "markdown",
   "metadata": {},
   "source": [
    "##### Sua vez\n",
    "\n",
    "Recrie o dataframe desta seção e crie uma coluna classificando a linha como aprovada ou reprovada. Isto é para um programa de mestrado que exige uma nota de 80 ou mais para um aluno ser aprovado."
   ]
  },
  {
   "cell_type": "markdown",
   "metadata": {},
   "source": [
    "#### Aplicando funções a grupos, compartimentos e colunas\n",
    "\n",
    "O principal motivo pelo qual uso Python para analisar dados é para lidar com conjuntos de dados maior que um milhão de linhas. A segunda razão é a facilidade de aplicação funções para meus dados. Para ver isso, primeiro precisamos carregar alguns dados (Listagem 3-31)."
   ]
  },
  {
   "cell_type": "code",
   "execution_count": null,
   "metadata": {},
   "outputs": [],
   "source": [
    "# Listing 3-31. Loading a Dataframe from a CSV File\n",
    "import pandas as pd\n",
    "Location = \"datasets/gradedata.csv\"\n",
    "df = pd.read_csv(Location)\n",
    "df.head()"
   ]
  },
  {
   "cell_type": "markdown",
   "metadata": {},
   "source": [
    "Em seguida, usamos binning para dividir os dados em notas de letras (Listagem 3.32)."
   ]
  },
  {
   "cell_type": "code",
   "execution_count": null,
   "metadata": {},
   "outputs": [],
   "source": [
    "# Listing 3-32. Using Bins\n",
    "# Create the bin dividers\n",
    "bins = [0, 60, 70, 80, 90, 100]\n",
    "# Create names for the four groups\n",
    "group_names = ['F', 'D', 'C', 'B', 'A']\n",
    "df['letterGrades'] = pd.cut(df['grade'],\n",
    "bins, labels=group_names)\n",
    "df.head()"
   ]
  },
  {
   "cell_type": "markdown",
   "metadata": {},
   "source": [
    "Para encontrar a média de horas de estudo por nota, aplicamos nossas funções à coluna agrupada (Listagem 3-33)."
   ]
  },
  {
   "cell_type": "code",
   "execution_count": null,
   "metadata": {},
   "outputs": [],
   "source": [
    "# Listing 3-33. Applying Function to Newly Created Bin\n",
    "df.groupby('letterGrades')['hours'].mean()"
   ]
  },
  {
   "cell_type": "markdown",
   "metadata": {},
   "source": [
    "Aplicar uma função a uma coluna é semelhante à Listagem 3.34."
   ]
  },
  {
   "cell_type": "code",
   "execution_count": null,
   "metadata": {},
   "outputs": [],
   "source": [
    "# Listing 3-34. Applying a Function to a Column\n",
    "# Applying the integer function to the grade column\n",
    "df['grade'] = df['grade'] = df['grade']\n",
    ".apply(lambda x: int(x))\n",
    "df.head()"
   ]
  },
  {
   "cell_type": "markdown",
   "metadata": {},
   "source": [
    "- Linha 1: Vamos obter um valor inteiro para cada nota do\n",
    "quadro de dados. A aplicação de uma função a um grupo pode ser vista na Listagem 3-35."
   ]
  },
  {
   "cell_type": "code",
   "execution_count": null,
   "metadata": {},
   "outputs": [],
   "source": [
    "# Listing 3-35. Applying a Function to a Group\n",
    "gender_preScore = df['grade'].groupby(df['gender'])\n",
    "gender_preScore.mean()"
   ]
  },
  {
   "cell_type": "markdown",
   "metadata": {},
   "source": [
    "- Linha 1: Crie um objeto de agrupamento. Em outras palavras, criar um objeto que representa esse agrupamento específico. Em neste caso, agrupamos as notas por gênero.\n",
    "- Linha 2: Exibe o valor médio de cada regimento pontuação pré-teste."
   ]
  },
  {
   "cell_type": "markdown",
   "metadata": {},
   "source": [
    "##### Sua vez\n",
    "\n",
    "Importe o arquivo datasets/gradedata.csv e crie uma nova coluna armazenada do 'status' como aprovado (> 70) ou reprovado (<=70). Então, calcule a média de horas de exercício das alunas com ‘status’ de passagem."
   ]
  },
  {
   "cell_type": "markdown",
   "metadata": {},
   "source": [
    "#### Classificação de linhas de dados\n",
    "\n",
    "É relativamente fácil encontrar a linha com o valor máximo ou o valor mínimo, mas às vezes você deseja encontrar as linhas com 50 os valores mais altos ou os 100 mais baixos para uma coluna específica. Isto é quando você precisa de classificação (Listagem 3-36)."
   ]
  },
  {
   "cell_type": "code",
   "execution_count": null,
   "metadata": {},
   "outputs": [],
   "source": [
    "# Listing 3-36. Load Data from CSV\n",
    "import pandas as pd\n",
    "Location = \"datasets/gradedata.csv\"\n",
    "df = pd.read_csv(Location)\n",
    "df.head()"
   ]
  },
  {
   "cell_type": "markdown",
   "metadata": {},
   "source": [
    "Se quisermos encontrar as linhas com as notas mais baixas, precisaremos classificar todas as linhas em ordem crescente por nota. A Listagem 3-37 mostra o código para criar uma nova coluna que é a classificação do valor da nota em ordem crescente."
   ]
  },
  {
   "cell_type": "code",
   "execution_count": null,
   "metadata": {},
   "outputs": [],
   "source": [
    "# Listing 3-37. Create Column with Ranking by Grade\n",
    "df['graderanked'] = df['grade'].rank(ascending=1)\n",
    "df.tail()"
   ]
  },
  {
   "cell_type": "markdown",
   "metadata": {},
   "source": [
    "Então, se quiséssemos apenas ver os alunos com as 20 notas mais baixas, usaríamos o código da Listagem 3-38."
   ]
  },
  {
   "cell_type": "code",
   "execution_count": null,
   "metadata": {},
   "outputs": [],
   "source": [
    "# Listing 3-38. Bottom 20 Students\n",
    "df[df['graderanked'] < 21]"
   ]
  },
  {
   "cell_type": "markdown",
   "metadata": {},
   "source": [
    "E, para vê-los em ordem, precisamos usar o código da Listagem 3-39."
   ]
  },
  {
   "cell_type": "code",
   "execution_count": null,
   "metadata": {},
   "outputs": [],
   "source": [
    "# Listing 3-39. Bottom 6 Students in Order\n",
    "df[df['graderanked'] < 6].sort_values('graderanked')"
   ]
  },
  {
   "cell_type": "markdown",
   "metadata": {},
   "source": [
    "##### Sua vez\n",
    "\n",
    "Você consegue encontrar os 50 alunos com mais horas de estudo por semana?"
   ]
  },
  {
   "cell_type": "markdown",
   "metadata": {},
   "source": [
    "#### Crie uma coluna baseada em uma condicional\n",
    "\n",
    "Às vezes, você precisa classificar uma linha de dados pelos valores em um ou mais colunas, como identificar os alunos que estão passando ou reprovando se a nota está acima ou abaixo de 70. Nesta seção, aprenderemos como para fazer isso (Listagem 3-40)."
   ]
  },
  {
   "cell_type": "code",
   "execution_count": null,
   "metadata": {},
   "outputs": [],
   "source": [
    "# Listing 3-40. Load Data from CSV\n",
    "import pandas as pd\n",
    "Location = \"datasets/gradedata.csv\"\n",
    "df = pd.read_csv(Location)\n",
    "df.head()"
   ]
  },
  {
   "cell_type": "markdown",
   "metadata": {},
   "source": [
    "Agora, digamos que queremos uma coluna indicando se os alunos estão reprovando ou não (Listagem 3-41)."
   ]
  },
  {
   "cell_type": "code",
   "execution_count": null,
   "metadata": {},
   "outputs": [],
   "source": [
    "# Listing 3-41. Create Yes/No isFailing Column\n",
    "import numpy as np\n",
    "df['isFailing'] = np.where(df['grade']<70,\n",
    "'yes', 'no')\n",
    "df.tail(10)"
   ]
  },
  {
   "cell_type": "markdown",
   "metadata": {},
   "source": [
    "Linha 1: Importamos a biblioteca numpy\n",
    "Linha 2: Crie uma nova coluna chamada df.failing\n",
    "onde o valor é sim se df.grade for menor que 70 e\n",
    "não, se não.\n",
    "\n",
    "Se, em vez disso, precisássemos de uma coluna indicando quem eram os alunos do sexo masculino\n",
    "com pontuações baixas, poderíamos usar o código da Listagem 3.42."
   ]
  },
  {
   "cell_type": "code",
   "execution_count": null,
   "metadata": {},
   "outputs": [],
   "source": [
    "# Listing 3-42. Create Yes/No isFailingMale Column\n",
    "df['isFailingMale'] = np.where((df['grade']<70)\n",
    "& (df['gender'] == 'male'),'yes', 'no')\n",
    "df.tail(10)"
   ]
  },
  {
   "cell_type": "markdown",
   "metadata": {},
   "source": [
    "##### Sua vez\n",
    "\n",
    "Você pode criar uma coluna para timemgmt que mostre ocupado se um aluno exercita mais de três horas por semana E estuda mais de dezessete horas por semana?"
   ]
  },
  {
   "cell_type": "markdown",
   "metadata": {},
   "source": [
    "#### Criando novas colunas usando funções\n",
    "\n",
    "Muito do que eu costumava fazer no Excel (e agora uso o Python) é para criar novas colunas com base em uma existente. Então, usando o seguinte data (Listagem 3-43), vamos ver como faríamos isso."
   ]
  },
  {
   "cell_type": "code",
   "execution_count": null,
   "metadata": {},
   "outputs": [],
   "source": [
    "# Listing 3-43. Load Data from CSV\n",
    "import pandas as pd\n",
    "Location = \"datasets/gradedata.csv\"\n",
    "df = pd.read_csv(Location)\n",
    "df.head()"
   ]
  },
  {
   "cell_type": "markdown",
   "metadata": {},
   "source": [
    "Para criar uma única coluna que contenha o nome completo de cada aluno, primeiro criamos uma função para criar uma única string a partir de duas strings (Listagem 3-44)."
   ]
  },
  {
   "cell_type": "code",
   "execution_count": null,
   "metadata": {},
   "outputs": [],
   "source": [
    "# Listing 3-44. Create Function to Generate Full Name\n",
    "def singlename(fn, ln):\n",
    "    return fn + \" \" + ln"
   ]
  },
  {
   "cell_type": "markdown",
   "metadata": {},
   "source": [
    "Agora, se você testar essa função, verá que ela funciona perfeitamente bem concatenando Adam e Smith em Adam Smith. No entanto, também podemos use-o com seletores de coluna para criar uma nova coluna usando nosso fname e Colunas lname (Listagem 3-45)."
   ]
  },
  {
   "cell_type": "code",
   "execution_count": null,
   "metadata": {},
   "outputs": [],
   "source": [
    "# Listing 3-45. Create Column to Hold the Full Name\n",
    "df['fullname'] = singlename(df['fname'],df['lname'])"
   ]
  },
  {
   "cell_type": "markdown",
   "metadata": {},
   "source": [
    "Este código cria uma coluna chamada fullname que concatena o nome e o sobrenome."
   ]
  },
  {
   "cell_type": "markdown",
   "metadata": {},
   "source": [
    "##### Sua vez\n",
    "\n",
    "Você pode criar uma coluna chamada tempo total que some as horas de estudo por semana e as horas de exercício por semana?"
   ]
  },
  {
   "cell_type": "markdown",
   "metadata": {},
   "source": [
    "#### Convertendo categorias de string em variáveis numéricas\n",
    "\n",
    "Por que preciso converter categorias de strings em variáveis numéricas? Muitos ferramentas analíticas não funcionarão em texto, mas se você converter esses valores em números, isso torna as coisas muito mais simples (Listagem 3-46)."
   ]
  },
  {
   "cell_type": "code",
   "execution_count": null,
   "metadata": {},
   "outputs": [],
   "source": [
    "# Listing 3-46. Load Data from CSV\n",
    "import pandas as pd\n",
    "Location = \"datasets/gradedata.csv\"\n",
    "df = pd.read_csv(Location)\n",
    "df.head()"
   ]
  },
  {
   "cell_type": "markdown",
   "metadata": {},
   "source": [
    "Método 1: converter coluna única para conter variáveis numéricas (Listagem 3-47)."
   ]
  },
  {
   "cell_type": "code",
   "execution_count": null,
   "metadata": {},
   "outputs": [],
   "source": [
    "# Listing 3-47. Function to Convert Gender to Number\n",
    "def score_to_numeric(x):\n",
    "    if x=='female':\n",
    "        return 1\n",
    "    if x=='male':\n",
    "        return 0"
   ]
  },
  {
   "cell_type": "markdown",
   "metadata": {},
   "source": [
    "Agora, execute esse método em sua coluna (Listagem 3.48)."
   ]
  },
  {
   "cell_type": "code",
   "execution_count": null,
   "metadata": {},
   "outputs": [],
   "source": [
    "# Listing 3-48. Apply score_to_numeric Function to Gender\n",
    "df['gender_val'] = df['gender'].apply(score_to_numeric)\n",
    "df.tail()"
   ]
  },
  {
   "cell_type": "markdown",
   "metadata": {},
   "source": [
    "Método 2: Crie colunas booleanas individuais (Listagem 3-49)."
   ]
  },
  {
   "cell_type": "code",
   "execution_count": null,
   "metadata": {},
   "outputs": [],
   "source": [
    "# Listing 3-49. Create Boolean Columns Based on Gender Column\n",
    "df_gender = pd.get_dummies(df['gender'])\n",
    "df_gender.tail()"
   ]
  },
  {
   "cell_type": "markdown",
   "metadata": {},
   "source": [
    "Junte colunas ao conjunto de dados original (Listagem 3-50)."
   ]
  },
  {
   "cell_type": "markdown",
   "metadata": {},
   "source": [
    "Listagem 3-50. Adicionar novas colunas ao dataframe original"
   ]
  },
  {
   "cell_type": "code",
   "execution_count": null,
   "metadata": {},
   "outputs": [],
   "source": [
    "# Join the dummy variables to the main dataframe\n",
    "df_new = pd.concat([df, df_gender], axis=1)\n",
    "df_new.tail()\n",
    "# or\n",
    "# Alterative for joining the new columns\n",
    "df_new = df.join(df_gender)\n",
    "df_new.tail()"
   ]
  },
  {
   "cell_type": "markdown",
   "metadata": {},
   "source": [
    "##### Sua vez\n",
    "\n",
    "Usando datasets/gradesdatawithyear.csv, você pode criar um número coluna para substituir os status de calouro a sênior pelos numerais 1 até 4?"
   ]
  },
  {
   "cell_type": "markdown",
   "metadata": {},
   "source": [
    "#### Organizando os dados\n",
    "\n",
    "Ambas as variáveis originais e recém-criadas precisam ser formatadas corretamente\n",
    "por dois motivos.\n",
    "Primeiro, para que nossas ferramentas de análise funcionem corretamente com eles. Falha ao formatar\n",
    "um código de valor ausente ou uma variável fictícia corretamente terá grandes\n",
    "consequências para sua análise de dados.\n",
    "Segundo, é muito mais rápido executar a análise e interpretar os resultados se você\n",
    "não precisa ficar procurando qual é a variável Q156.\n",
    "\n",
    "Os exemplos incluem o seguinte:\n",
    "• Removendo colunas desnecessárias\n",
    "• Alteração de nomes de colunas\n",
    "• Alterando os nomes das colunas para letras minúsculas\n",
    "• Formatar variáveis de data como datas e assim por diante."
   ]
  },
  {
   "cell_type": "markdown",
   "metadata": {},
   "source": [
    "##### Removendo e Adicionando Colunas\n",
    "\n",
    "Às vezes precisamos ajustar os dados. Ou alguma coisa foi deixada de fora deveria ter sido incluído ou algo foi deixado que deveria ter sido removido. Então, vamos começar com o conjunto de dados da Listagem 3.51."
   ]
  },
  {
   "cell_type": "code",
   "execution_count": null,
   "metadata": {},
   "outputs": [],
   "source": [
    "# Listing 3-51. Creating Starting Dataset\n",
    "import pandas as pd\n",
    "names = ['Bob','Jessica','Mary','John','Mel']\n",
    "grades = [76,95,77,78,99]\n",
    "bsdegrees = [1,1,0,0,1]\n",
    "msdegrees = [2,1,0,0,0]\n",
    "phddegrees = [0,1,0,0,0]\n",
    "GradeList = zip(names,grades,bsdegrees,msdegrees,\n",
    "phddegrees)\n",
    "columns=['Names','Grades','BS','MS','PhD']\n",
    "df = pd.DataFrame(data = GradeList, columns=columns)\n",
    "df"
   ]
  },
  {
   "cell_type": "markdown",
   "metadata": {},
   "source": [
    "Podemos eliminar uma coluna simplesmente adicionando o código da Listagem 3.52."
   ]
  },
  {
   "cell_type": "code",
   "execution_count": null,
   "metadata": {},
   "outputs": [],
   "source": [
    "# Listing 3-52. Dropping a Column\n",
    "df.drop('PhD', axis=1)"
   ]
  },
  {
   "cell_type": "markdown",
   "metadata": {},
   "source": [
    "Com axis=1 informando drop que queremos eliminar uma coluna (1) e não uma linha (0).\n",
    "\n",
    "Podemos adicionar uma coluna preenchida com zeros definindo o novo nome da coluna para ser igual a 0 (Listagem 3-53)."
   ]
  },
  {
   "cell_type": "code",
   "execution_count": null,
   "metadata": {},
   "outputs": [],
   "source": [
    "# Listing 3-53. Creating a New Column Filled with Zeros\n",
    "df['HighSchool']=0"
   ]
  },
  {
   "cell_type": "markdown",
   "metadata": {},
   "source": [
    "Se, no entanto, você quiser definir as novas colunas para valores iguais a nulos, você\n",
    "pode fazer isso também (Listagem 3-54)."
   ]
  },
  {
   "cell_type": "code",
   "execution_count": null,
   "metadata": {},
   "outputs": [],
   "source": [
    "# Listing 3-54. Creating a New Column Filled with Null Values\n",
    "df['PreSchool'] = np.nan"
   ]
  },
  {
   "cell_type": "markdown",
   "metadata": {},
   "source": [
    "Agora, adicionar uma coluna com valores não é tão difícil. Criamos uma série e definimos a coluna igual à série (Listagem 3-55)."
   ]
  },
  {
   "cell_type": "code",
   "execution_count": null,
   "metadata": {},
   "outputs": [],
   "source": [
    "# Listing 3-55. Creating a New Column Filled with Values\n",
    "d = ([0,1,0,1,0])\n",
    "s = pd.Series(d, index= df.index)\n",
    "df['DriversLicense'] = s\n",
    "df"
   ]
  },
  {
   "cell_type": "markdown",
   "metadata": {},
   "source": [
    "##### Sua vez\n",
    "\n",
    "Você pode remover as colunas de bacharelado, mestrado e doutorado?\n",
    "Você pode adicionar uma coluna de Grau Mágico de Hogwarts? Todos menos Jéssica\n",
    "tem um; isso torna tudo mais difícil? Não? Então eu tenho que ter certeza de te deixar perplexo\n",
    "próxima vez."
   ]
  },
  {
   "cell_type": "markdown",
   "metadata": {},
   "source": [
    "##### Selecionando Colunas\n",
    "\n",
    "Você precisará fazer subseleções de seus dados ocasionalmente, especialmente se\n",
    "seu conjunto de dados tem toneladas de colunas. Aqui, aprendemos como criar um dataframe\n",
    "isso inclui apenas algumas de nossas colunas (Listagem 3-56)."
   ]
  },
  {
   "cell_type": "code",
   "execution_count": null,
   "metadata": {},
   "outputs": [],
   "source": [
    "# Listing 3-56. Load Data from CSV\n",
    "import pandas as pd\n",
    "Location = \"datasets/gradedata.csv\"\n",
    "df = pd.read_csv(Location)\n",
    "df.head()"
   ]
  },
  {
   "cell_type": "markdown",
   "metadata": {},
   "source": [
    "Agora, para selecionar uma coluna de dados, especificamos o nome da coluna\n",
    "(Listagem 3-57)."
   ]
  },
  {
   "cell_type": "code",
   "execution_count": null,
   "metadata": {},
   "outputs": [],
   "source": [
    "# Listing 3-57. Selecting a Column into a List\n",
    "df['fname']"
   ]
  },
  {
   "cell_type": "markdown",
   "metadata": {},
   "source": [
    "Mas se você executar esse código, você obterá apenas os dados da coluna (observe o cabeçalho está faltando). Isso ocorre porque isso não retorna um dataframe; isto retorna uma lista. Para retornar um dataframe ao selecionar uma coluna, precisamos especifique-o (Listagem 3-58)."
   ]
  },
  {
   "cell_type": "code",
   "execution_count": null,
   "metadata": {},
   "outputs": [],
   "source": [
    "# Listing 3-58. Selecting a Column into a Dataframe\n",
    "df[['fname']]"
   ]
  },
  {
   "cell_type": "markdown",
   "metadata": {},
   "source": [
    "Para retornar múltiplas colunas, usamos código como o da Listagem 3.59."
   ]
  },
  {
   "cell_type": "code",
   "execution_count": null,
   "metadata": {},
   "outputs": [],
   "source": [
    "# Listing 3-59. Selecting Multiple Columns into a Dataframe\n",
    "df[['fname','age','grade']]"
   ]
  },
  {
   "cell_type": "markdown",
   "metadata": {},
   "source": [
    "E, claro, se quisermos criar um dataframe com esse subconjunto de colunas, podemos copiá-lo para outra variável (Listagem 3-60)."
   ]
  },
  {
   "cell_type": "code",
   "execution_count": null,
   "metadata": {},
   "outputs": [],
   "source": [
    "# Listing 3-60. Creating New Dataframe from Your Selection\n",
    "df2 = df[['fname','age','grade']]\n",
    "df2.head()"
   ]
  },
  {
   "cell_type": "markdown",
   "metadata": {},
   "source": [
    "##### Sua vez\n",
    "\n",
    "Precisamos criar uma lista de discussão. Você pode criar um novo dataframe selecionando os campos de nome, sobrenome e endereço?"
   ]
  },
  {
   "cell_type": "markdown",
   "metadata": {},
   "source": [
    "##### ### Alterar nome da coluna\n",
    "\n",
    "Às vezes você precisa alterar os nomes das suas colunas. Com pandas, é fácil de fazer. Primeiro, você carrega seus dados (Listagem 3.61). "
   ]
  },
  {
   "cell_type": "code",
   "execution_count": null,
   "metadata": {},
   "outputs": [],
   "source": [
    "# Listing 3-61. Load Dataset from CSV\n",
    "import pandas as pd\n",
    "Location = \"datasets/gradedata.csv\"\n",
    "df = pd.read_csv(Location)\n",
    "df.head()"
   ]
  },
  {
   "cell_type": "markdown",
   "metadata": {},
   "source": [
    "Mas, quando olhamos para o cabeçalho, não ficamos entusiasmados com os nomes das colunas – ou ele não tem nenhum.\n",
    "É simples alterar os cabeçalhos das colunas (Listagem 3-62)."
   ]
  },
  {
   "cell_type": "code",
   "execution_count": null,
   "metadata": {},
   "outputs": [],
   "source": [
    "# Listing 3-62. Change All Headers\n",
    "df.columns = ['FirstName', 'LastName', 'Gender',\n",
    "'Age', 'HoursExercisePerWeek',\n",
    "'HoursStudyPerWeek', 'LetterGrade',\n",
    "'StreetAddress']\n",
    "df.head()"
   ]
  },
  {
   "cell_type": "markdown",
   "metadata": {},
   "source": [
    "Ou, se quiser apenas alterar um ou dois valores, você pode carregar a lista\n",
    "de cabeçalhos (Listagem 3-63)."
   ]
  },
  {
   "cell_type": "code",
   "execution_count": null,
   "metadata": {},
   "outputs": [],
   "source": [
    "Listing 3-63. Load List of Headers into a Temp Variable\n",
    "headers = list(df.columns.values)"
   ]
  },
  {
   "cell_type": "markdown",
   "metadata": {},
   "source": [
    "Depois que os cabeçalhos forem carregados, você poderá alterar alguns (Listagem 3.64)."
   ]
  },
  {
   "cell_type": "code",
   "execution_count": null,
   "metadata": {},
   "outputs": [],
   "source": [
    "Listing 3-64. Changing Headers\n",
    "headers[0] = 'FName'\n",
    "headers[1] = 'LName'\n",
    "df.columns = headers\n",
    "df.head()"
   ]
  },
  {
   "cell_type": "markdown",
   "metadata": {},
   "source": [
    "### Sua vez\n",
    "\n",
    "Você pode alterar o nome da coluna de idade para anos?"
   ]
  },
  {
   "cell_type": "markdown",
   "metadata": {},
   "source": [
    "##### Configurando nomes de colunas para letras minúsculas\n",
    "\n",
    "Pode não ser o maior problema do mundo, mas às vezes preciso\n",
    "converta todos os nomes das colunas em minúsculas (ou maiúsculas, nesse caso).\n",
    "Esta lição abordará como fazer isso (Listagem 3-65)."
   ]
  },
  {
   "cell_type": "code",
   "execution_count": null,
   "metadata": {},
   "outputs": [],
   "source": [
    "Listing 3-65. Load Data from CSV\n",
    "import pandas as pd\n",
    "Location = \"datasets/gradedata.csv\"\n",
    "df = pd.read_csv(Location)\n",
    "df.head()"
   ]
  },
  {
   "cell_type": "markdown",
   "metadata": {},
   "source": [
    "Depois de ter os dados, existem duas maneiras rápidas de converter todas as colunas\n",
    "cabeçalhos para letras minúsculas (Listagem 3-66)."
   ]
  },
  {
   "cell_type": "code",
   "execution_count": null,
   "metadata": {},
   "outputs": [],
   "source": [
    "Listing 3-66. Casting All Headers to Lowercase\n",
    "# method 1\n",
    "df.columns = map(str.lower, df.columns)\n",
    "# method 2\n",
    "df.columns = [x.lower() for x in df.columns]"
   ]
  },
  {
   "cell_type": "markdown",
   "metadata": {},
   "source": [
    "##### Sua vez\n",
    "\n",
    "Você consegue descobrir como deixar todos os cabeçalhos das colunas em letras maiúsculas?"
   ]
  },
  {
   "cell_type": "markdown",
   "metadata": {},
   "source": [
    "##### Encontrando linhas correspondentes\n",
    "\n",
    "É claro que nem sempre você deseja calcular usando todo o conjunto de dados.\n",
    "Às vezes você deseja trabalhar apenas com um subconjunto de seus dados. Nesta lição,\n",
    "descobrimos como fazer isso (Listagem 3-67)."
   ]
  },
  {
   "cell_type": "code",
   "execution_count": null,
   "metadata": {},
   "outputs": [],
   "source": [
    "Listing 3-67. Creating Dataset\n",
    "import pandas as pd\n",
    "names = ['Bob','Jessica','Mary','John','Mel']\n",
    "grades = [76,95,77,78,99]\n",
    "GradeList = zip(names,grades)\n",
    "df = pd.DataFrame(data = GradeList,\n",
    "columns=['Names', 'Grades'])\n",
    "df"
   ]
  },
  {
   "cell_type": "markdown",
   "metadata": {},
   "source": [
    "Para encontrar todas as linhas que contêm a palavra Mel, use o código mostrado em\n",
    "Listagem 3-68 em uma nova célula."
   ]
  },
  {
   "cell_type": "code",
   "execution_count": null,
   "metadata": {},
   "outputs": [],
   "source": [
    "Listing 3-68. Filtering Rows\n",
    "df['Names'].str.contains('Mel')"
   ]
  },
  {
   "cell_type": "markdown",
   "metadata": {},
   "source": [
    "Depois de executar essa linha do Python, você verá uma lista de booleanos\n",
    "valores—True para as linhas que correspondem à nossa consulta e False para aquelas que\n",
    "não.\n",
    "Podemos encurtar nossa resposta adicionando .any. Isso exibirá apenas um\n",
    "single True se alguma linha corresponder e False se nenhuma delas corresponder (Listagem 3-69)."
   ]
  },
  {
   "cell_type": "code",
   "execution_count": null,
   "metadata": {},
   "outputs": [],
   "source": [
    "Listing 3-69. Check if Any Rows Match\n",
    "# check if any row matches\n",
    "df['Names'].str.contains('Mel').any()"
   ]
  },
  {
   "cell_type": "markdown",
   "metadata": {},
   "source": [
    "Alternativamente, você pode adicionar .all. Isso exibirá apenas um único True se todos\n",
    "das linhas correspondem e False se pelo menos uma delas não corresponder (Listagem 3-70)."
   ]
  },
  {
   "cell_type": "code",
   "execution_count": null,
   "metadata": {},
   "outputs": [],
   "source": [
    "Listing 3-70. Check if All Rows Match\n",
    "# check if all rows match\n",
    "df['Names'].str.contains('Mel').all()"
   ]
  },
  {
   "cell_type": "markdown",
   "metadata": {},
   "source": [
    "Também podemos usar isso junto com a função .loc (locate) para mostrar apenas\n",
    "as linhas que correspondem a determinados critérios (Listagem 3-71)."
   ]
  },
  {
   "cell_type": "code",
   "execution_count": null,
   "metadata": {},
   "outputs": [],
   "source": [
    "Listing 3-71. Show the Rows that Match\n",
    "# Find the rows that match a criteria like this\n",
    "df.loc[df['Names'].str.contains('Mel')==True]\n",
    "# or even like this...\n",
    "df.loc[df['Grades']==0]"
   ]
  },
  {
   "cell_type": "markdown",
   "metadata": {},
   "source": [
    "Sua vez\n",
    "Você consegue encontrar todas as pessoas que têm pelo menos um mestrado no\n",
    "seguintes dados (Listagem 3-72)?"
   ]
  },
  {
   "cell_type": "code",
   "execution_count": null,
   "metadata": {},
   "outputs": [],
   "source": [
    "Listing 3-72. Starting Dataset\n",
    "import pandas as pd\n",
    "names = ['Bob','Jessi','Mary','John','Mel','Sam',\n",
    "'Cathy','Hank','Lloyd']\n",
    "grades = [76,95,77,78,99,84,79,100,73]\n",
    "bsdegrees = [1,1,0,0,1,1,1,0,1]\n",
    "msdegrees = [2,1,0,0,0,1,1,0,0]\n",
    "phddegrees = [0,1,0,0,0,2,1,0,0]\n",
    "GradeList = zip(names,grades,bsdegrees,msdegrees,\n",
    "phddegrees)\n",
    "df = pd.DataFrame(data = GradeList, columns=['Name','Grade','BS',\n",
    "'MS','PhD'])\n",
    "df"
   ]
  },
  {
   "cell_type": "markdown",
   "metadata": {},
   "source": [
    "### Filtrar linhas com base nas condições"
   ]
  },
  {
   "cell_type": "code",
   "execution_count": null,
   "metadata": {},
   "outputs": [],
   "source": [
    "Listing 3-73. Load Data from CSV\n",
    "import pandas as pd\n",
    "Location = \"datasets/gradedata.csv\"\n",
    "df = pd.read_csv(Location)\n",
    "df.head()"
   ]
  },
  {
   "cell_type": "markdown",
   "metadata": {},
   "source": [
    "Podemos mostrar uma coluna de dados (Listagem 3-74)."
   ]
  },
  {
   "cell_type": "code",
   "execution_count": null,
   "metadata": {},
   "outputs": [],
   "source": [
    "Listing 3-74. One Column\n",
    "df['grade'].head()"
   ]
  },
  {
   "cell_type": "markdown",
   "metadata": {},
   "source": [
    "Ou podemos mostrar duas colunas de dados (Listagem 3-75)."
   ]
  },
  {
   "cell_type": "code",
   "execution_count": null,
   "metadata": {},
   "outputs": [],
   "source": [
    "Listing 3-75. Two Columns\n",
    "df[['age','grade']].head()"
   ]
  },
  {
   "cell_type": "markdown",
   "metadata": {},
   "source": [
    "Ou podemos mostrar as duas primeiras linhas de dados (Listagem 3.76)."
   ]
  },
  {
   "cell_type": "code",
   "execution_count": null,
   "metadata": {},
   "outputs": [],
   "source": [
    "Listing 3-76. First Two Rows\n",
    "df[:2]"
   ]
  },
  {
   "cell_type": "markdown",
   "metadata": {},
   "source": [
    "Para mostrar todas as linhas onde a nota é maior que 80, use o código em\n",
    "Listagem 3-77."
   ]
  },
  {
   "cell_type": "code",
   "execution_count": null,
   "metadata": {},
   "outputs": [],
   "source": [
    "Listing 3-77. All Rows with Grade > 80\n",
    "df[df['grade'] > 80]"
   ]
  },
  {
   "cell_type": "markdown",
   "metadata": {},
   "source": [
    "Usar múltiplas condições é um pouco mais complicado. Então, se quiséssemos obter uma lista\n",
    "de todos os alunos com pontuação superior a 99,9 e eram do sexo masculino, teríamos\n",
    "precisa usar o código mostrado na Listagem 3-78."
   ]
  },
  {
   "cell_type": "code",
   "execution_count": null,
   "metadata": {},
   "outputs": [],
   "source": [
    "Listing 3-78. All Rows Where Men Scored > 99.9\n",
    "df.ix[(df['grade'] > 99.9) &\n",
    "(df['gender'] == 'male') ]"
   ]
  },
  {
   "cell_type": "markdown",
   "metadata": {},
   "source": [
    "Se, em vez disso, quiséssemos todos os alunos com pontuação superior a 99 OU\n",
    "fossem mulheres, precisaríamos usar o código da Listagem 3-79."
   ]
  },
  {
   "cell_type": "code",
   "execution_count": null,
   "metadata": {},
   "outputs": [],
   "source": [
    "Listing 3-79. All Rows Where Women or Scored > 99\n",
    "df.ix[(df['grade'] > 99) | (df['gender'] == 'female') ]"
   ]
  },
  {
   "cell_type": "markdown",
   "metadata": {},
   "source": [
    "Sua vez\n",
    "Você pode mostrar todas as linhas onde o aluno era do sexo masculino, exercitava menos de\n",
    "duas horas por semana e estudou mais de quinze horas por semana?"
   ]
  },
  {
   "cell_type": "markdown",
   "metadata": {},
   "source": [
    "#### Seleção de linhas com base nas condições"
   ]
  },
  {
   "cell_type": "code",
   "execution_count": null,
   "metadata": {},
   "outputs": [],
   "source": [
    "Listing 3-80. Load Data from CSV\n",
    "import pandas as pd\n",
    "Location = \"datasets/gradedata.csv\"\n",
    "df = pd.read_csv(Location)\n",
    "df.head()"
   ]
  },
  {
   "cell_type": "code",
   "execution_count": null,
   "metadata": {},
   "outputs": [],
   "source": [
    "Listing 3-81. Method 1: Using Variables to Hold Attributes\n",
    "female = df['gender'] == \"female\"\n",
    "a_student = df['grade'] >= 90\n",
    "df[female & a_student].head()"
   ]
  },
  {
   "cell_type": "markdown",
   "metadata": {},
   "source": [
    "Linha 1: Criamos uma variável com TRUE se gênero for\n",
    "fêmea.\n",
    "Linha 2: Criamos uma variável com TRUE se a nota for\n",
    "maior ou igual a 90.\n",
    "Linha 3: É aqui que selecionamos todos os casos em que ambos\n",
    "o gênero é feminino e a nota é maior ou igual\n",
    "para 90."
   ]
  },
  {
   "cell_type": "code",
   "execution_count": null,
   "metadata": {},
   "outputs": [],
   "source": [
    "Listing 3-82. Method 2: Using Variable Attributes Directly\n",
    "df[df['fname'].notnull() & (df['gender'] == \"male\")]"
   ]
  },
  {
   "cell_type": "markdown",
   "metadata": {},
   "source": [
    "Na Listagem 3-82, selecionamos todos os casos onde o primeiro nome não está faltando\n",
    "e o gênero é masculino."
   ]
  },
  {
   "cell_type": "markdown",
   "metadata": {},
   "source": [
    "Sua vez\n",
    "Você consegue encontrar todas as linhas onde o aluno teve quatro ou mais horas de aula?\n",
    "exercício por semana, dezessete ou mais horas de estudo, e ainda tinha nota\n",
    "isso era inferior a 80?"
   ]
  },
  {
   "cell_type": "markdown",
   "metadata": {},
   "source": [
    "#### Dataframe de amostragem aleatória\n",
    "\n",
    "Este é simples. Obviamente, às vezes temos conjuntos de dados que são muito\n",
    "grande e precisamos pegar um subconjunto, então vamos começar com alguns dados carregados\n",
    "(Listagem 3-83)."
   ]
  },
  {
   "cell_type": "code",
   "execution_count": null,
   "metadata": {},
   "outputs": [],
   "source": [
    "Listing 3-83. Load Dataset from CSV\n",
    "import pandas as pd\n",
    "import numpy as np\n",
    "Location = \"datasets/gradedata.csv\"\n",
    "df = pd.read_csv(Location)\n",
    "df.tail()"
   ]
  },
  {
   "cell_type": "markdown",
   "metadata": {},
   "source": [
    "Para selecionar apenas 100 linhas aleatoriamente desse conjunto de dados, podemos simplesmente executar\n",
    "o código mostrado na Listagem 3-84."
   ]
  },
  {
   "cell_type": "code",
   "execution_count": null,
   "metadata": {},
   "outputs": [],
   "source": [
    "# Listing 3-84. Random Sample of 100 Rows from Dataframe\n",
    "df.take(np.random.permutation(len(df))[:100])"
   ]
  },
  {
   "cell_type": "markdown",
   "metadata": {},
   "source": [
    "#### Sua vez\n",
    "\n",
    "Você pode criar uma amostra aleatória de 500 linhas desse conjunto de dados?"
   ]
  },
  {
   "cell_type": "code",
   "execution_count": null,
   "metadata": {},
   "outputs": [],
   "source": [
    "%reload_ext watermark\n",
    "%watermark -a \"Caique Miranda\" -gu \"caiquemiranda\" -iv"
   ]
  },
  {
   "attachments": {},
   "cell_type": "markdown",
   "metadata": {},
   "source": [
    "### End."
   ]
  }
 ],
 "metadata": {
  "kernelspec": {
   "display_name": "Python 3",
   "language": "python",
   "name": "python3"
  },
  "language_info": {
   "codemirror_mode": {
    "name": "ipython",
    "version": 3
   },
   "file_extension": ".py",
   "mimetype": "text/x-python",
   "name": "python",
   "nbconvert_exporter": "python",
   "pygments_lexer": "ipython3",
   "version": "3.10.5"
  },
  "orig_nbformat": 4
 },
 "nbformat": 4,
 "nbformat_minor": 2
}
