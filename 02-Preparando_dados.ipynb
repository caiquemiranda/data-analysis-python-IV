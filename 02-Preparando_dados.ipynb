{
 "cells": [
  {
   "cell_type": "code",
   "execution_count": null,
   "metadata": {},
   "outputs": [],
   "source": [
    "# Versão da Linguagem Python\n",
    "from platform import python_version\n",
    "print('Versão de Python Neste Jupyter Notebook:', python_version())"
   ]
  },
  {
   "attachments": {},
   "cell_type": "markdown",
   "metadata": {},
   "source": [
    "### Preparando os dados"
   ]
  },
  {
   "attachments": {},
   "cell_type": "markdown",
   "metadata": {},
   "source": [
    "A segunda etapa da análise de dados é a limpeza dos dados. Preparar dados para ferramentas analíticas pode ser uma tarefa difícil. O Python e suas bibliotecas tentam torná-lo o mais fácil possível."
   ]
  },
  {
   "attachments": {},
   "cell_type": "markdown",
   "metadata": {},
   "source": [
    "Com apenas algumas linhas de código, você poderá preparar seus dados para análise. Você poderá:\n",
    "\n",
    "- Limpar os dados.\n",
    "- Criar novas variáveis.\n",
    "- Organizar os dados."
   ]
  },
  {
   "attachments": {},
   "cell_type": "markdown",
   "metadata": {},
   "source": [
    "#### Limpeza de dados"
   ]
  },
  {
   "attachments": {},
   "cell_type": "markdown",
   "metadata": {},
   "source": [
    "Para serem úteis para a maioria das tarefas analíticas, os dados devem estar limpos. Isso significa que deve ser consistente, relevante e padronizado."
   ]
  },
  {
   "attachments": {},
   "cell_type": "markdown",
   "metadata": {},
   "source": [
    "- remover valores discrepantes;\n",
    "- remover valores inadequados;\n",
    "- remover duplicatas;\n",
    "- remover pontuação;\n",
    "- remover espaços em branco;\n",
    "- padronizar datas;\n",
    "- padronizar o texto."
   ]
  },
  {
   "attachments": {},
   "cell_type": "markdown",
   "metadata": {},
   "source": [
    "#### Calculando e removendo outliers"
   ]
  },
  {
   "attachments": {},
   "cell_type": "markdown",
   "metadata": {},
   "source": [
    "Suponha que você esteja coletando dados sobre as pessoas com quem você estudou no ensino médio. E se você foi para a escola com Bill Gates. Agora, mesmo que a pessoa com o segundo maior patrimônio líquido tenha apenas $ 1,5 milhão, a média de toda a sua classe é aumentada pelo bilionário no topo. Encontrar os outliers permite remover os valores que são tão altos ou tão baixos que distorcem a visão geral dos dados."
   ]
  },
  {
   "attachments": {},
   "cell_type": "markdown",
   "metadata": {},
   "source": [
    "Cobrimos duas maneiras principais de detectar outliers:\n",
    "\n",
    "- 1. Desvios Padrão: Se os dados forem normalmente distribuído, então 95 por cento dos dados estão dentro de 1,96 desvios padrão da média. Portanto, podemos descartar os valores acima ou abaixo desse intervalo."
   ]
  },
  {
   "attachments": {},
   "cell_type": "markdown",
   "metadata": {},
   "source": [
    "- 2. Intervalo Interquartílico (IQR): O IQR é o diferença entre o quantil de 25 por cento e o quantil de 75 por cento. Quaisquer valores inferiores a Q1 - 1,5 x IQR ou superiores a Q3 + 1,5 x IQR são tratados como outliers e removidos."
   ]
  },
  {
   "attachments": {},
   "cell_type": "markdown",
   "metadata": {},
   "source": [
    "Vamos ver como eles se parecem"
   ]
  },
  {
   "cell_type": "code",
   "execution_count": null,
   "metadata": {},
   "outputs": [],
   "source": [
    "# Método 1: Desvio Padrão\n",
    "import pandas as pd\n",
    "\n",
    "caminho = \"datasets/gradedata.csv\" \n",
    "df = pd.read_csv(caminho) \n",
    "\n",
    "meangrade = df['grade'].mean()\n",
    "stdgrade = df['grade'].std() \n",
    "toprange =averagegrade + stdgrade * 1,96 \n",
    "botrange = averagegrade - stdgrade * 1,96 \n",
    "copydf = df \n",
    "copydf =copydf.drop(copydf[copydf['grade'] > toprange].index)\n",
    "copydf = copydf.drop(copydf[copydf['grade'] < botrange].index)\n",
    "copydf"
   ]
  },
  {
   "attachments": {},
   "cell_type": "markdown",
   "metadata": {},
   "source": [
    "• Linha 6: Aqui calculamos o intervalo superior igual a 1,96 vezes o\n",
    "desvio padrão mais a média.\n",
    "• Linha 7: Aqui calculamos o intervalo inferior igual a\n",
    "1,96 vezes o desvio padrão subtraído do\n",
    "significar.\n",
    "• Linha 9: Aqui descartamos as linhas onde a nota é maior\n",
    "do que o toprange.\n",
    "Linha 11: Aqui descartamos as linhas onde está a nota\n",
    "inferior ao botrange."
   ]
  },
  {
   "attachments": {},
   "cell_type": "markdown",
   "metadata": {},
   "source": [
    "# Método 2: Intervalo Interquartílico\n",
    "importar pandas como pd\n",
    "Location = \"datasets/gradedata.csv\" df =\n",
    "pd.read_csv(Location) q1 =\n",
    "df['grade'].quantile(.25) q3 =\n",
    "df['grade'].quantile(.75) iqr = q3-q1\n",
    "toprange = q3\n",
    "+ iqr botrange = q1 - iqr\n",
    "copydf = df\n",
    "\n",
    "copydf = copydf.drop(copydf[copydf['nota'] > toprange].index)\n",
    "copydf =\n",
    "copydf.drop(copydf[copydf['nota'] < botrange].index)\n",
    "copydf"
   ]
  },
  {
   "attachments": {},
   "cell_type": "markdown",
   "metadata": {},
   "source": [
    "• Linha 9: Aqui calculamos o limite superior = o terceiro quartil + 1,5\n",
    "* o IQR.\n",
    "* Linha 10: Aqui calculamos o limite inferior = o primeiro quartil - 1,5 *\n",
    "o IQR.\n",
    "• Linha 13: Aqui descartamos as linhas onde está a nota\n",
    "mais alto que o toprange.\n",
    "• Linha 14: Aqui descartamos as linhas onde está a nota\n",
    "inferior ao botrange."
   ]
  },
  {
   "attachments": {},
   "cell_type": "markdown",
   "metadata": {},
   "source": [
    "Carregue o conjunto de dados datasets/outlierdata.csv. Você pode remover os\n",
    "outliers? Experimente com ambos os métodos."
   ]
  },
  {
   "cell_type": "markdown",
   "metadata": {},
   "source": []
  },
  {
   "cell_type": "markdown",
   "metadata": {},
   "source": []
  },
  {
   "cell_type": "markdown",
   "metadata": {},
   "source": []
  },
  {
   "cell_type": "markdown",
   "metadata": {},
   "source": []
  },
  {
   "cell_type": "markdown",
   "metadata": {},
   "source": []
  },
  {
   "cell_type": "markdown",
   "metadata": {},
   "source": []
  },
  {
   "cell_type": "markdown",
   "metadata": {},
   "source": []
  },
  {
   "cell_type": "markdown",
   "metadata": {},
   "source": []
  },
  {
   "cell_type": "markdown",
   "metadata": {},
   "source": []
  },
  {
   "cell_type": "markdown",
   "metadata": {},
   "source": []
  },
  {
   "cell_type": "markdown",
   "metadata": {},
   "source": []
  },
  {
   "cell_type": "markdown",
   "metadata": {},
   "source": []
  },
  {
   "cell_type": "code",
   "execution_count": null,
   "metadata": {},
   "outputs": [],
   "source": [
    "%reload_ext watermark\n",
    "%watermark -a \"Caique Miranda\" -gu \"caiquemiranda\" -iv"
   ]
  },
  {
   "attachments": {},
   "cell_type": "markdown",
   "metadata": {},
   "source": [
    "### End."
   ]
  }
 ],
 "metadata": {
  "language_info": {
   "name": "python"
  },
  "orig_nbformat": 4
 },
 "nbformat": 4,
 "nbformat_minor": 2
}
