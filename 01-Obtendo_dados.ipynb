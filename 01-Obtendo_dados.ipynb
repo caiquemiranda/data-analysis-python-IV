{
 "cells": [
  {
   "cell_type": "code",
   "execution_count": 1,
   "metadata": {},
   "outputs": [
    {
     "name": "stdout",
     "output_type": "stream",
     "text": [
      "Versão de Python Neste Jupyter Notebook: 3.10.5\n"
     ]
    }
   ],
   "source": [
    "# Versão da Linguagem Python\n",
    "from platform import python_version\n",
    "print('Versão de Python Neste Jupyter Notebook:', python_version())"
   ]
  },
  {
   "attachments": {},
   "cell_type": "markdown",
   "metadata": {},
   "source": [
    "### Obtendo dados para Python"
   ]
  },
  {
   "attachments": {},
   "cell_type": "markdown",
   "metadata": {},
   "source": [
    "A primeira etapa da análise de dados é obter os dados. Mover seus dados de onde você os armazenou para suas ferramentas analíticas e voltar novamente pode ser uma tarefa difícil se você não souber o que está fazendo. O Python e suas bibliotecas tentam torná-lo o mais fácil possível."
   ]
  },
  {
   "attachments": {},
   "cell_type": "markdown",
   "metadata": {},
   "source": [
    "Com apenas algumas linhas de código, você poderá importar e exportar dados nos seguintes formatos:\n",
    "\n",
    "- CSV\n",
    "- Excel\n",
    "- SQL"
   ]
  },
  {
   "attachments": {},
   "cell_type": "markdown",
   "metadata": {},
   "source": [
    "#### Carregando dados de arquivos CSV"
   ]
  },
  {
   "attachments": {},
   "cell_type": "markdown",
   "metadata": {},
   "source": [
    "Normalmente, os dados chegarão até nós como arquivos ou links de banco de dados. "
   ]
  },
  {
   "cell_type": "code",
   "execution_count": 1,
   "metadata": {},
   "outputs": [],
   "source": [
    "# Cód 2-1. Carregando dados do arquivo CSV.\n",
    "\n",
    "import pandas as pd\n",
    "\n",
    "arquivo = \"datasets/smallgradesh.csv\"\n",
    "df = pd.read_csv(arquivo, header = None)"
   ]
  },
  {
   "attachments": {},
   "cell_type": "markdown",
   "metadata": {},
   "source": [
    "Agora, vamos dar uma olhada em como nossos dados se parecem"
   ]
  },
  {
   "cell_type": "code",
   "execution_count": 2,
   "metadata": {},
   "outputs": [
    {
     "data": {
      "text/html": [
       "<div>\n",
       "<style scoped>\n",
       "    .dataframe tbody tr th:only-of-type {\n",
       "        vertical-align: middle;\n",
       "    }\n",
       "\n",
       "    .dataframe tbody tr th {\n",
       "        vertical-align: top;\n",
       "    }\n",
       "\n",
       "    .dataframe thead th {\n",
       "        text-align: right;\n",
       "    }\n",
       "</style>\n",
       "<table border=\"1\" class=\"dataframe\">\n",
       "  <thead>\n",
       "    <tr style=\"text-align: right;\">\n",
       "      <th></th>\n",
       "      <th>0</th>\n",
       "      <th>1</th>\n",
       "    </tr>\n",
       "  </thead>\n",
       "  <tbody>\n",
       "    <tr>\n",
       "      <th>0</th>\n",
       "      <td>Name</td>\n",
       "      <td>Grade</td>\n",
       "    </tr>\n",
       "    <tr>\n",
       "      <th>1</th>\n",
       "      <td>Marcia</td>\n",
       "      <td>82.4</td>\n",
       "    </tr>\n",
       "    <tr>\n",
       "      <th>2</th>\n",
       "      <td>Kadeem</td>\n",
       "      <td>78.2</td>\n",
       "    </tr>\n",
       "    <tr>\n",
       "      <th>3</th>\n",
       "      <td>Nash</td>\n",
       "      <td>79.3</td>\n",
       "    </tr>\n",
       "    <tr>\n",
       "      <th>4</th>\n",
       "      <td>Noelani</td>\n",
       "      <td>83.2</td>\n",
       "    </tr>\n",
       "  </tbody>\n",
       "</table>\n",
       "</div>"
      ],
      "text/plain": [
       "         0      1\n",
       "0     Name  Grade\n",
       "1   Marcia   82.4\n",
       "2   Kadeem   78.2\n",
       "3     Nash   79.3\n",
       "4  Noelani   83.2"
      ]
     },
     "execution_count": 2,
     "metadata": {},
     "output_type": "execute_result"
    }
   ],
   "source": [
    "# Cód 2-2. Exibir as cinco primeiras linhas de dados.\n",
    "\n",
    "df.head()"
   ]
  },
  {
   "attachments": {},
   "cell_type": "markdown",
   "metadata": {},
   "source": [
    "Como você pode ver, nosso dataframe não possui cabeçalhos de coluna. Ou melhor, existem cabeçalhos, mas não foram carregados como cabeçalhos; eles foram carregados como linha um de seus dados."
   ]
  },
  {
   "cell_type": "code",
   "execution_count": null,
   "metadata": {},
   "outputs": [],
   "source": [
    "# Cód 2-3. Carregando dados do arquivo CSV com cabeçalhos.\n",
    "\n",
    "arquivo = \"datasets/gradedata.csv\" \n",
    "df = pd.read_csv(arquivo)"
   ]
  },
  {
   "cell_type": "code",
   "execution_count": null,
   "metadata": {},
   "outputs": [],
   "source": [
    "df.head()"
   ]
  },
  {
   "attachments": {},
   "cell_type": "markdown",
   "metadata": {},
   "source": [
    "Se você tiver um conjunto de dados que não inclua cabeçalhos, poderá adicioná-los posteriormente."
   ]
  },
  {
   "cell_type": "code",
   "execution_count": null,
   "metadata": {},
   "outputs": [],
   "source": [
    "# Cód 2-3. Carregando dados do arquivo CSV e adicionando cabeçalhos.arquivo\n",
    "\n",
    "arquivo = \"datasets/smallgrades.csv\"\n",
    "\n",
    "# Para adicionar cabeçalhos enquanto carregamos os dados.\n",
    "df = pd.read_csv(arquivo, \n",
    "                 names = ['Names','Grades'])\n",
    "\n",
    "# Para adicionar cabeçalhos a um dataframe.\n",
    "df.columns = ['Names','Grades']"
   ]
  },
  {
   "cell_type": "code",
   "execution_count": null,
   "metadata": {},
   "outputs": [],
   "source": [
    "df.head()"
   ]
  },
  {
   "attachments": {},
   "cell_type": "markdown",
   "metadata": {},
   "source": [
    "Salvando dados em CSV"
   ]
  },
  {
   "attachments": {},
   "cell_type": "markdown",
   "metadata": {},
   "source": [
    "Talvez você queira salvar seu progresso ao analisar dados. Talvez você esteja apenas\n",
    "usando o Python para massagear alguns dados para análise posterior em outra ferramenta.\n",
    "Ou talvez você tenha algum outro motivo para exportar seu dataframe para um arquivo\n",
    "CSV."
   ]
  },
  {
   "cell_type": "code",
   "execution_count": null,
   "metadata": {},
   "outputs": [],
   "source": [
    "# 2-6. Exportando um conjunto de dados para CSV\n",
    "\n",
    "\n",
    "import pandas as pd names\n",
    "= ['Bob','Jessica','Mary','John','Mel'] grades = [76,95,77,78,99]\n",
    "GradeList = zip(nomes,notas) df =\n",
    "pd.DataFrame(data = GradeList, colunas=['Nomes','Notas'])\n",
    "df.to_csv('studentgrades.csv',index=False,header=False)"
   ]
  },
  {
   "attachments": {},
   "cell_type": "markdown",
   "metadata": {},
   "source": [
    "As linhas 1 a 6 são as linhas que criam o dataframe. A linha 7 é o código para\n",
    "exporte o dataframe df para um arquivo CSV chamado studentgrades.csv."
   ]
  },
  {
   "attachments": {},
   "cell_type": "markdown",
   "metadata": {},
   "source": [
    "Os únicos parâmetros que usamos são index e header. Configurando estes\n",
    "parâmetros como falso impedirá que os nomes de índice e cabeçalho sejam\n",
    "exportados. Altere os valores desses parâmetros para entender melhor seu uso."
   ]
  },
  {
   "attachments": {},
   "cell_type": "markdown",
   "metadata": {},
   "source": [
    "Se você deseja informações detalhadas sobre o método to_csv,"
   ]
  },
  {
   "cell_type": "code",
   "execution_count": null,
   "metadata": {},
   "outputs": [],
   "source": [
    "# 2-7. Obtendo ajuda para to_csv\n",
    "df.to_csv?"
   ]
  },
  {
   "cell_type": "code",
   "execution_count": null,
   "metadata": {},
   "outputs": [],
   "source": [
    "# 2-8. Criando um conjunto de dados para o exercício\n",
    "import pandas as pd\n",
    "names = ['Bob','Jessica','Mary','John','Mel'] grades =\n",
    "[76,95,77,78,99] bsdegrees =\n",
    "[1,1,0,0 ,1] msdegrees =\n",
    "[2,1,0,0,0] phddegrees =\n",
    "[0,1,0,0,0]\n",
    "Graus = zip(nomes,notas,bsdegrees,msdegrees,phddegrees) colunas =\n",
    "['Nomes','Notas','BS','MS','PhD'] df = pd.DataFrame(data\n",
    "= Graus, colunas=coluna ) df"
   ]
  },
  {
   "attachments": {},
   "cell_type": "markdown",
   "metadata": {},
   "source": [
    "Você pode exportar o dataframe criado pelo código na Listagem"
   ]
  },
  {
   "attachments": {},
   "cell_type": "markdown",
   "metadata": {},
   "source": [
    "Carregando dados de arquivos do Excel"
   ]
  },
  {
   "attachments": {},
   "cell_type": "markdown",
   "metadata": {},
   "source": [
    "Normalmente, os dados chegarão até nós como arquivos ou links de banco de dados. Vamos ver\n",
    "como carregar dados de um arquivo Excel"
   ]
  },
  {
   "cell_type": "code",
   "execution_count": null,
   "metadata": {},
   "outputs": [],
   "source": [
    "# Carregando dados do arquivo do Excel\n",
    "importar pandas como pd\n",
    "Location = \"datasets/gradedata.xlsx\" df =\n",
    "pd.read_excel(Location)"
   ]
  },
  {
   "attachments": {},
   "cell_type": "markdown",
   "metadata": {},
   "source": [
    "vamos dar uma olhada"
   ]
  },
  {
   "cell_type": "code",
   "execution_count": null,
   "metadata": {},
   "outputs": [],
   "source": [
    "# Exibir as cinco primeiras linhas de dados\n",
    "df.head()"
   ]
  },
  {
   "attachments": {},
   "cell_type": "markdown",
   "metadata": {},
   "source": [
    "Se desejar alterar ou simplificar os nomes das colunas, você pode executar o código\n",
    "mostrado na Listagem 2-11."
   ]
  },
  {
   "cell_type": "code",
   "execution_count": null,
   "metadata": {},
   "outputs": [],
   "source": [
    "# Alterar nomes de colunas\n",
    "df.columns = ['first','last','sex','age','exer','hrs','grd','addr'] df.head()"
   ]
  },
  {
   "attachments": {},
   "cell_type": "markdown",
   "metadata": {},
   "source": [
    "Salvando dados em arquivos do Excel"
   ]
  },
  {
   "cell_type": "code",
   "execution_count": null,
   "metadata": {},
   "outputs": [],
   "source": [
    "# Exportando um Dataframe para o Excel\n",
    "\n",
    "import pandas as pd names\n",
    "= ['Bob','Jessica','Mary','John','Mel'] grades = [76,95,77,78,99]\n",
    "\n",
    "GradeList = zip(nomes,notas) df =\n",
    "pd.DataFrame(data = GradeList,\n",
    "colunas=['Nomes','Notas']) escritor =\n",
    "pd.ExcelWriter('dataframe.xlsx', engine='xlsxwriter') df. to_excel(escritor,\n",
    "sheet_name='Planilha1') escritor.save()"
   ]
  },
  {
   "attachments": {},
   "cell_type": "markdown",
   "metadata": {},
   "source": [
    "Se desejar, você pode salvar diferentes quadros de dados em diferentes planilhas e\n",
    "com um .save() você criará um arquivo do Excel com várias planilhas"
   ]
  },
  {
   "cell_type": "code",
   "execution_count": null,
   "metadata": {},
   "outputs": [],
   "source": [
    "# Exportando Múltiplos Dataframes para o Excel\n",
    "Writer = pd.ExcelWriter('dataframe.xlsx',engine='xlsxwriter') df.to_excel(writer,\n",
    "sheet_name='Sheet1') df2.to_excel(writer,\n",
    "sheet_name='Sheet2') writer.save()"
   ]
  },
  {
   "cell_type": "code",
   "execution_count": null,
   "metadata": {},
   "outputs": [],
   "source": [
    "# Criando um conjunto de dados para o exercício\n",
    "\n",
    "import pandas as pd\n",
    "names = ['Nike','Adidas','New Balance','Puma','Reebok'] notas =\n",
    "[176,59,47,38,99]\n",
    "PriceList = zip(nomes,preços) df =\n",
    "pd.DataFrame(data = PriceList, colunas=['Nomes','Preços'])"
   ]
  },
  {
   "attachments": {},
   "cell_type": "markdown",
   "metadata": {},
   "source": [
    "Combinando dados de vários arquivos do Excel"
   ]
  },
  {
   "attachments": {},
   "cell_type": "markdown",
   "metadata": {},
   "source": [
    "Às vezes, precisaremos combinar os dados de vários\n",
    "Arquivos do Excel no mesmo dataframe."
   ]
  },
  {
   "attachments": {},
   "cell_type": "markdown",
   "metadata": {},
   "source": [
    "Podemos fazer isso pelo caminho mais longo ou pelo caminho mais curto."
   ]
  },
  {
   "cell_type": "code",
   "execution_count": null,
   "metadata": {},
   "outputs": [],
   "source": [
    "# Longo caminho\n",
    "importar pandas como pd\n",
    "importar numpy como np\n",
    "all_data = pd.DataFrame()\n",
    "df = pd.read_excel(\"datasets/data1.xlsx\") all_data =\n",
    "all_data.append(df,ignore_index=True)\n",
    "df = pd.read_excel(\"datasets/data2.xlsx\") all_data =\n",
    "all_data.append(df,ignore_index=True)\n",
    "df = pd.read_excel(\"datasets/data3.xlsx\") all_data =\n",
    "all_data.append(df,ignore_index=True) all_data.describe()"
   ]
  },
  {
   "attachments": {},
   "cell_type": "markdown",
   "metadata": {},
   "source": [
    "Linha 4: Primeiro, vamos definir all_data para um dataframe vazio.\n",
    "Linha 6: Carregue o primeiro arquivo Excel no dataframe df.\n",
    "• Linha 7: Anexa o conteúdo de df ao dataframe all_data.\n",
    "• Linhas 9 e 10: Basicamente o mesmo que as linhas 6 e 7, mas para o próximo arquivo do Excel."
   ]
  },
  {
   "cell_type": "code",
   "execution_count": null,
   "metadata": {},
   "outputs": [],
   "source": [
    "# Atalho\n",
    "importar pandas como pd\n",
    "importar numpy como np\n",
    "importar glob\n",
    "\n",
    "all_data = pd.DataFrame() para f in\n",
    "glob.glob(\"datasets/data*.xlsx\"): df = pd.read_excel(f) all_data =\n",
    "all_data.append(df,ignore_index=True)\n",
    "all_data.describe()"
   ]
  },
  {
   "attachments": {},
   "cell_type": "markdown",
   "metadata": {},
   "source": [
    "Linha 3: Importa a biblioteca glob\n",
    "Linha 5: Vamos definir all_data para um dataframe vazio.\n",
    "Linha 6: Esta linha percorrerá todos os arquivos que correspondem ao\n",
    "padrão.\n",
    "Linha 7: Carregue o arquivo Excel em f no dataframe df.\n",
    "Linha 8: Anexa o conteúdo de df ao dataframe all_data."
   ]
  },
  {
   "attachments": {},
   "cell_type": "markdown",
   "metadata": {},
   "source": [
    "Como temos apenas três arquivos de dados, a diferença no código não é tão\n",
    "perceptível. No entanto, se estivéssemos carregando cem arquivos, a diferença na\n",
    "quantidade de código seria enorme. Este código carregará todos os arquivos do\n",
    "Excel cujos nomes começam com dados que estão no diretório de conjuntos de dados,\n",
    "não importa quantos existam."
   ]
  },
  {
   "attachments": {},
   "cell_type": "markdown",
   "metadata": {},
   "source": [
    "Na pasta datasets/weekly_call_data, existem 104 arquivos de dados de chamadas\n",
    "semanais por dois anos. Sua tarefa é tentar carregar todos esses dados em um dataframe."
   ]
  },
  {
   "attachments": {},
   "cell_type": "markdown",
   "metadata": {},
   "source": [
    "Carregando dados do SQL"
   ]
  },
  {
   "cell_type": "markdown",
   "metadata": {},
   "source": []
  },
  {
   "cell_type": "markdown",
   "metadata": {},
   "source": []
  },
  {
   "cell_type": "markdown",
   "metadata": {},
   "source": []
  },
  {
   "cell_type": "markdown",
   "metadata": {},
   "source": []
  },
  {
   "cell_type": "markdown",
   "metadata": {},
   "source": []
  },
  {
   "cell_type": "markdown",
   "metadata": {},
   "source": []
  },
  {
   "cell_type": "markdown",
   "metadata": {},
   "source": []
  },
  {
   "cell_type": "markdown",
   "metadata": {},
   "source": []
  },
  {
   "cell_type": "markdown",
   "metadata": {},
   "source": []
  },
  {
   "cell_type": "code",
   "execution_count": 2,
   "metadata": {},
   "outputs": [
    {
     "name": "stdout",
     "output_type": "stream",
     "text": [
      "Author: Caique Miranda\n",
      "\n",
      "Github username: caiquemiranda\n",
      "\n"
     ]
    }
   ],
   "source": [
    "%reload_ext watermark\n",
    "%watermark -a \"Caique Miranda\" -gu \"caiquemiranda\" -iv"
   ]
  },
  {
   "attachments": {},
   "cell_type": "markdown",
   "metadata": {},
   "source": [
    "### End."
   ]
  }
 ],
 "metadata": {
  "kernelspec": {
   "display_name": "Python 3",
   "language": "python",
   "name": "python3"
  },
  "language_info": {
   "codemirror_mode": {
    "name": "ipython",
    "version": 3
   },
   "file_extension": ".py",
   "mimetype": "text/x-python",
   "name": "python",
   "nbconvert_exporter": "python",
   "pygments_lexer": "ipython3",
   "version": "3.10.5"
  },
  "orig_nbformat": 4
 },
 "nbformat": 4,
 "nbformat_minor": 2
}
